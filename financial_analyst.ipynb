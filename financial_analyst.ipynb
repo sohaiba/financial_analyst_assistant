{
  "nbformat": 4,
  "nbformat_minor": 0,
  "metadata": {
    "colab": {
      "provenance": [],
      "authorship_tag": "ABX9TyOgxYpQ9WWGFVP1L+gEP0EU",
      "include_colab_link": true
    },
    "kernelspec": {
      "name": "python3",
      "display_name": "Python 3"
    },
    "language_info": {
      "name": "python"
    }
  },
  "cells": [
    {
      "cell_type": "markdown",
      "metadata": {
        "id": "view-in-github",
        "colab_type": "text"
      },
      "source": [
        "<a href=\"https://colab.research.google.com/github/sohaiba/financial_analyst_assistant/blob/main/financial_analyst.ipynb\" target=\"_parent\"><img src=\"https://colab.research.google.com/assets/colab-badge.svg\" alt=\"Open In Colab\"/></a>"
      ]
    },
    {
      "cell_type": "code",
      "source": [
        "pip install --upgrade openai"
      ],
      "metadata": {
        "colab": {
          "base_uri": "https://localhost:8080/"
        },
        "id": "bk6fetuQ2ORB",
        "outputId": "260d7c53-5e1e-49e4-893c-375bdc6c625c"
      },
      "execution_count": null,
      "outputs": [
        {
          "output_type": "stream",
          "name": "stdout",
          "text": [
            "Requirement already satisfied: openai in /usr/local/lib/python3.10/dist-packages (1.6.1)\n",
            "Requirement already satisfied: anyio<5,>=3.5.0 in /usr/local/lib/python3.10/dist-packages (from openai) (3.7.1)\n",
            "Requirement already satisfied: distro<2,>=1.7.0 in /usr/lib/python3/dist-packages (from openai) (1.7.0)\n",
            "Requirement already satisfied: httpx<1,>=0.23.0 in /usr/local/lib/python3.10/dist-packages (from openai) (0.26.0)\n",
            "Requirement already satisfied: pydantic<3,>=1.9.0 in /usr/local/lib/python3.10/dist-packages (from openai) (1.10.13)\n",
            "Requirement already satisfied: sniffio in /usr/local/lib/python3.10/dist-packages (from openai) (1.3.0)\n",
            "Requirement already satisfied: tqdm>4 in /usr/local/lib/python3.10/dist-packages (from openai) (4.66.1)\n",
            "Requirement already satisfied: typing-extensions<5,>=4.7 in /usr/local/lib/python3.10/dist-packages (from openai) (4.9.0)\n",
            "Requirement already satisfied: idna>=2.8 in /usr/local/lib/python3.10/dist-packages (from anyio<5,>=3.5.0->openai) (3.6)\n",
            "Requirement already satisfied: exceptiongroup in /usr/local/lib/python3.10/dist-packages (from anyio<5,>=3.5.0->openai) (1.2.0)\n",
            "Requirement already satisfied: certifi in /usr/local/lib/python3.10/dist-packages (from httpx<1,>=0.23.0->openai) (2023.11.17)\n",
            "Requirement already satisfied: httpcore==1.* in /usr/local/lib/python3.10/dist-packages (from httpx<1,>=0.23.0->openai) (1.0.2)\n",
            "Requirement already satisfied: h11<0.15,>=0.13 in /usr/local/lib/python3.10/dist-packages (from httpcore==1.*->httpx<1,>=0.23.0->openai) (0.14.0)\n"
          ]
        }
      ]
    },
    {
      "cell_type": "code",
      "source": [
        "import os\n",
        "import json\n",
        "import requests\n",
        "from openai import OpenAI\n",
        "import time\n",
        "from google.colab import userdata\n",
        "\n",
        "# API keys are stored in Google Colab's Secret Manager\n",
        "OPENAI_API_KEY = userdata.get('OPENAI_API_KEY')\n",
        "os.environ[\"OPENAI_API_KEY\"] = OPENAI_API_KEY\n",
        "\n",
        "FMP_API_KEY = userdata.get('FMP_API_KEY')\n",
        "os.environ[\"FMP_API_KEY\"] = FMP_API_KEY\n",
        "\n",
        "client = OpenAI()"
      ],
      "metadata": {
        "id": "dzTRxzzizU8n"
      },
      "execution_count": null,
      "outputs": []
    },
    {
      "cell_type": "code",
      "source": [
        "# Define financial statement functions\n",
        "def get_income_statement(ticker, period, limit):\n",
        "    url = f\"https://financialmodelingprep.com/api/v3/income-statement/{ticker}?period={period}&limit={limit}&apikey={FMP_API_KEY}\"\n",
        "    response = requests.get(url)\n",
        "    return json.dumps(response.json())\n",
        "\n",
        "def get_balance_sheet(ticker, period, limit):\n",
        "    url = f\"https://financialmodelingprep.com/api/v3/balance-sheet-statement/{ticker}?period={period}&limit={limit}&apikey={FMP_API_KEY}\"\n",
        "    response = requests.get(url)\n",
        "    return json.dumps(response.json())\n",
        "\n",
        "def get_cash_flow_statement(ticker, period, limit):\n",
        "    url = f\"https://financialmodelingprep.com/api/v3/cash-flow-statement/{ticker}?period={period}&limit={limit}&apikey={FMP_API_KEY}\"\n",
        "    response = requests.get(url)\n",
        "    return json.dumps(response.json())\n",
        "\n",
        "def get_key_metrics(ticker, period, limit):\n",
        "    url = f\"https://financialmodelingprep.com/api/v3/key-metrics/{ticker}?period={period}&limit={limit}&apikey={FMP_API_KEY}\"\n",
        "    response = requests.get(url)\n",
        "    return json.dumps(response.json())\n",
        "\n",
        "def get_financial_ratios(ticker, period, limit):\n",
        "    url = f\"https://financialmodelingprep.com/api/v3/ratios/{ticker}?period={period}&limit={limit}&apikey={FMP_API_KEY}\"\n",
        "    response = requests.get(url)\n",
        "    return json.dumps(response.json())\n",
        "\n",
        "def get_financial_growth(ticker, period, limit):\n",
        "    url = f\"https://financialmodelingprep.com/api/v3/financial-growth/{ticker}?period={period}&limit={limit}&apikey={FMP_API_KEY}\"\n",
        "    response = requests.get(url)\n",
        "    return json.dumps(response.json())"
      ],
      "metadata": {
        "id": "qgn7wR-H6E2V"
      },
      "execution_count": null,
      "outputs": []
    },
    {
      "cell_type": "code",
      "source": [
        "# Map available functions\n",
        "available_functions = {\n",
        "    \"get_income_statement\": get_income_statement,\n",
        "    \"get_balance_sheet\": get_balance_sheet,\n",
        "    \"get_cash_flow_statement\": get_cash_flow_statement,\n",
        "    \"get_key_metrics\": get_key_metrics,\n",
        "    \"get_financial_ratios\": get_financial_ratios,\n",
        "    \"get_financial_growth\": get_financial_growth\n",
        "}"
      ],
      "metadata": {
        "id": "nWYaozhp6aMm"
      },
      "execution_count": null,
      "outputs": []
    },
    {
      "cell_type": "code",
      "source": [
        "# Creating an assistant with specific instructions and tools\n",
        "assistant = client.beta.assistants.create(\n",
        "    instructions=\"Act as a financial analyst by accessing detailed financial data through the Financial Modeling Prep API. Your capabilities include analyzing key metrics, comprehensive financial statements, vital financial ratios, and tracking financial growth trends. \",\n",
        "    model=\"gpt-3.5-turbo-1106\",\n",
        "    tools=[\n",
        "            {\"type\": \"function\",\n",
        "             \"function\": {\n",
        "                 \"name\": \"get_income_statement\",\n",
        "                 \"parameters\": {\"type\": \"object\",\n",
        "                                \"properties\": {\n",
        "                                    \"ticker\": {\"type\": \"string\"},\n",
        "                                    \"period\": {\"type\": \"string\"},\n",
        "                                    \"limit\": {\"type\": \"integer\"}\n",
        "                                  }\n",
        "                                }\n",
        "                 }\n",
        "             },\n",
        "            {\"type\": \"function\",\n",
        "             \"function\": {\n",
        "                 \"name\": \"get_balance_sheet\",\n",
        "                 \"parameters\": {\"type\": \"object\",\n",
        "                                \"properties\": {\n",
        "                                    \"ticker\": {\"type\": \"string\"},\n",
        "                                    \"period\": {\"type\": \"string\"},\n",
        "                                    \"limit\": {\"type\": \"integer\"}\n",
        "                                  }\n",
        "                                }\n",
        "                 }\n",
        "             },\n",
        "            {\"type\": \"function\",\n",
        "             \"function\": {\n",
        "                 \"name\": \"get_cash_flow_statement\",\n",
        "                 \"parameters\": {\"type\": \"object\",\n",
        "                                \"properties\": {\n",
        "                                    \"ticker\": {\"type\": \"string\"},\n",
        "                                    \"period\": {\"type\": \"string\"},\n",
        "                                    \"limit\": {\"type\": \"integer\"}\n",
        "                                  }\n",
        "                                }\n",
        "                 }\n",
        "             },\n",
        "            {\"type\": \"function\",\n",
        "             \"function\": {\n",
        "                 \"name\": \"get_key_metrics\",\n",
        "                 \"parameters\": {\"type\": \"object\",\n",
        "                                \"properties\": {\n",
        "                                    \"ticker\": {\"type\": \"string\"},\n",
        "                                    \"period\": {\"type\": \"string\"},\n",
        "                                    \"limit\": {\"type\": \"integer\"}\n",
        "                                  }\n",
        "                                }\n",
        "                 }\n",
        "             },\n",
        "            {\"type\": \"function\",\n",
        "             \"function\": {\n",
        "                 \"name\": \"get_financial_ratios\",\n",
        "                 \"parameters\": {\"type\": \"object\",\n",
        "                                \"properties\": {\n",
        "                                    \"ticker\": {\"type\": \"string\"},\n",
        "                                    \"period\": {\"type\": \"string\"},\n",
        "                                    \"limit\": {\"type\": \"integer\"}\n",
        "                                  }\n",
        "                                }\n",
        "                 }\n",
        "             },\n",
        "            {\"type\": \"function\",\n",
        "             \"function\": {\n",
        "                 \"name\": \"get_financial_growth\",\n",
        "                 \"parameters\": {\"type\": \"object\",\n",
        "                                \"properties\": {\n",
        "                                    \"ticker\": {\"type\": \"string\"},\n",
        "                                    \"period\": {\"type\": \"string\"},\n",
        "                                    \"limit\": {\"type\": \"integer\"}\n",
        "                                  }\n",
        "                                }\n",
        "                 }\n",
        "             }\n",
        "            ]\n",
        ")"
      ],
      "metadata": {
        "id": "lCzmBRoX6z8a"
      },
      "execution_count": null,
      "outputs": []
    },
    {
      "cell_type": "code",
      "source": [
        "  # Creating a new thread\n",
        "thread = client.beta.threads.create()"
      ],
      "metadata": {
        "id": "dExoi5HM-Nnd"
      },
      "execution_count": null,
      "outputs": []
    },
    {
      "cell_type": "code",
      "source": [
        "# Adding a user message to the thread\n",
        "client.beta.threads.messages.create(\n",
        "      thread_id=thread.id,\n",
        "      role=\"user\",\n",
        "      content=\"Give me income statement for the past five quarters for Amazon.\"\n",
        " )"
      ],
      "metadata": {
        "colab": {
          "base_uri": "https://localhost:8080/"
        },
        "id": "7Cth29Ts-Pkv",
        "outputId": "bf366cce-deac-4bb7-b0e9-300d2e6cfbe1"
      },
      "execution_count": null,
      "outputs": [
        {
          "output_type": "execute_result",
          "data": {
            "text/plain": [
              "ThreadMessage(id='msg_qhfNWzTRn6biueNJJ2nr0P3D', assistant_id=None, content=[MessageContentText(text=Text(annotations=[], value=\"Evaluate Amazon's financial growth trajectory over the past five quarters. Highlight key metrics and cash flow trends that indicate its growth pattern.\"), type='text')], created_at=1704616762, file_ids=[], metadata={}, object='thread.message', role='user', run_id=None, thread_id='thread_lRPoav2vyf5NU1Uflcbshsue')"
            ]
          },
          "metadata": {},
          "execution_count": 15
        }
      ]
    },
    {
      "cell_type": "code",
      "source": [
        "# Running the assistant on the created thread\n",
        "run = client.beta.threads.runs.create(thread_id=thread.id, assistant_id=assistant.id)"
      ],
      "metadata": {
        "id": "BaGo0EgzA8AH"
      },
      "execution_count": null,
      "outputs": []
    },
    {
      "cell_type": "code",
      "source": [
        "dict(run)"
      ],
      "metadata": {
        "id": "BMk8_PUgFeuY"
      },
      "execution_count": null,
      "outputs": []
    },
    {
      "cell_type": "code",
      "source": [
        "# Loop until the run completes or requires action\n",
        "    while True:\n",
        "        run = client.beta.threads.runs.retrieve(thread_id=thread.id, run_id=run.id)\n",
        "\n",
        "        # Add run steps retrieval here\n",
        "        run_steps = client.beta.threads.runs.steps.list(thread_id=thread.id, run_id=run.id)\n",
        "        print(\"Run Steps:\", run_steps)\n",
        "\n",
        "        if run.status == \"requires_action\":\n",
        "            tool_calls = run.required_action.submit_tool_outputs.tool_calls\n",
        "            tool_outputs = []\n",
        "\n",
        "            for tool_call in tool_calls:\n",
        "                function_name = tool_call.function.name\n",
        "                function_args = json.loads(tool_call.function.arguments)\n",
        "\n",
        "                if function_name in available_functions:\n",
        "                    function_to_call = available_functions[function_name]\n",
        "                    output = function_to_call(**function_args)\n",
        "                    tool_outputs.append({\n",
        "                        \"tool_call_id\": tool_call.id,\n",
        "                        \"output\": output,\n",
        "                    })\n",
        "\n",
        "            # Submit tool outputs and update the run\n",
        "            client.beta.threads.runs.submit_tool_outputs(\n",
        "                thread_id=thread.id,\n",
        "                run_id=run.id,\n",
        "                tool_outputs=tool_outputs\n",
        "            )\n",
        "\n",
        "        elif run.status == \"completed\":\n",
        "            # List the messages to get the response\n",
        "            messages = client.beta.threads.messages.list(thread_id=thread.id)\n",
        "            for message in messages.data:\n",
        "                role_label = \"User\" if message.role == \"user\" else \"Assistant\"\n",
        "                message_content = message.content[0].text.value\n",
        "                print(f\"{role_label}: {message_content}\\n\")\n",
        "            break  # Exit the loop after processing the completed run\n",
        "\n",
        "        elif run.status == \"failed\":\n",
        "            print(\"Run failed.\")\n",
        "            break\n",
        "\n",
        "        elif run.status in [\"in_progress\", \"queued\"]:\n",
        "            print(f\"Run is {run.status}. Waiting...\")\n",
        "            time.sleep(5)  # Wait for 5 seconds before checking again\n",
        "\n",
        "        else:\n",
        "            print(f\"Unexpected status: {run.status}\")\n",
        "            break"
      ],
      "metadata": {
        "id": "tC8IqtRjRgFP"
      },
      "execution_count": null,
      "outputs": []
    }
  ]
}