{
  "nbformat": 4,
  "nbformat_minor": 0,
  "metadata": {
    "colab": {
      "provenance": [],
      "authorship_tag": "ABX9TyMxAdlk89E20V8jPYjHfRGr",
      "include_colab_link": true
    },
    "kernelspec": {
      "name": "python3",
      "display_name": "Python 3"
    },
    "language_info": {
      "name": "python"
    }
  },
  "cells": [
    {
      "cell_type": "markdown",
      "metadata": {
        "id": "view-in-github",
        "colab_type": "text"
      },
      "source": [
        "<a href=\"https://colab.research.google.com/github/sohaiba/financial_analyst_assistant/blob/main/financial_analyst.ipynb\" target=\"_parent\"><img src=\"https://colab.research.google.com/assets/colab-badge.svg\" alt=\"Open In Colab\"/></a>"
      ]
    },
    {
      "cell_type": "code",
      "source": [
        "pip install --upgrade openai"
      ],
      "metadata": {
        "id": "bk6fetuQ2ORB"
      },
      "execution_count": null,
      "outputs": []
    },
    {
      "cell_type": "code",
      "source": [
        "import os\n",
        "import json\n",
        "import requests\n",
        "from openai import OpenAI\n",
        "import time\n",
        "from google.colab import userdata\n",
        "\n",
        "# API keys are stored in Google Colab's Secret Manager\n",
        "OPENAI_API_KEY = userdata.get('OPENAI_API_KEY')\n",
        "os.environ[\"OPENAI_API_KEY\"] = OPENAI_API_KEY\n",
        "\n",
        "FMP_API_KEY = userdata.get('FMP_API_KEY')\n",
        "os.environ[\"FMP_API_KEY\"] = FMP_API_KEY\n",
        "\n",
        "client = OpenAI()"
      ],
      "metadata": {
        "id": "dzTRxzzizU8n"
      },
      "execution_count": 39,
      "outputs": []
    },
    {
      "cell_type": "code",
      "source": [
        "# Define financial statement functions\n",
        "def get_income_statement(ticker, period, limit):\n",
        "    url = f\"https://financialmodelingprep.com/api/v3/income-statement/{ticker}?period={period}&apikey={FMP_API_KEY}\"\n",
        "    response = requests.get(url)\n",
        "    return json.dumps(response.json())\n",
        "\n",
        "def get_balance_sheet(ticker, period, limit):\n",
        "    url = f\"https://financialmodelingprep.com/api/v3/balance-sheet-statement/{ticker}?period={period}&apikey={FMP_API_KEY}\"\n",
        "    response = requests.get(url)\n",
        "    return json.dumps(response.json())\n",
        "\n",
        "def get_cash_flow_statement(ticker, period, limit):\n",
        "    url = f\"https://financialmodelingprep.com/api/v3/cash-flow-statement/{ticker}?period={period}&apikey={FMP_API_KEY}\"\n",
        "    response = requests.get(url)\n",
        "    return json.dumps(response.json())\n",
        "\n",
        "def get_key_metrics(ticker, period, limit):\n",
        "    url = f\"https://financialmodelingprep.com/api/v3/key-metrics/{ticker}?period={period}&apikey={FMP_API_KEY}\"\n",
        "    response = requests.get(url)\n",
        "    return json.dumps(response.json())\n",
        "\n",
        "def get_financial_ratios(ticker, period, limit):\n",
        "    url = f\"https://financialmodelingprep.com/api/v3/ratios/{ticker}?period={period}&apikey={FMP_API_KEY}\"\n",
        "    response = requests.get(url)\n",
        "    return json.dumps(response.json())\n",
        "\n",
        "def get_financial_growth(ticker, period, limit):\n",
        "    url = f\"https://financialmodelingprep.com/api/v3/financial-growth/{ticker}?period={period}&apikey={FMP_API_KEY}\"\n",
        "    response = requests.get(url)\n",
        "    return json.dumps(response.json())"
      ],
      "metadata": {
        "id": "qgn7wR-H6E2V"
      },
      "execution_count": 41,
      "outputs": []
    },
    {
      "cell_type": "code",
      "source": [
        "# Map available functions\n",
        "available_functions = {\n",
        "    \"get_income_statement\": get_income_statement,\n",
        "    \"get_balance_sheet\": get_balance_sheet,\n",
        "    \"get_cash_flow_statement\": get_cash_flow_statement,\n",
        "    \"get_key_metrics\": get_key_metrics,\n",
        "    \"get_financial_ratios\": get_financial_ratios,\n",
        "    \"get_financial_growth\": get_financial_growth\n",
        "}"
      ],
      "metadata": {
        "id": "nWYaozhp6aMm"
      },
      "execution_count": 42,
      "outputs": []
    },
    {
      "cell_type": "code",
      "source": [
        "# Define the main function\n",
        "def run_assistant():\n",
        "  # Creating an assistant with specific instructions and tools\n",
        "  assistant = client.beta.assistants.create(\n",
        "      instructions=\"Act as a financial analyst by accessing detailed financial data through the Financial Modeling Prep API. Your capabilities include analyzing key metrics, comprehensive financial statements, vital financial ratios, and tracking financial growth trends. \",\n",
        "      model=\"gpt-3.5-turbo-1106\",\n",
        "      tools=[\n",
        "              {\"type\": \"function\",\n",
        "              \"function\": {\n",
        "                  \"name\": \"get_income_statement\",\n",
        "                  \"parameters\": {\"type\": \"object\",\n",
        "                                  \"properties\": {\n",
        "                                      \"ticker\": {\"type\": \"string\"},\n",
        "                                      \"period\": {\"type\": \"string\"},\n",
        "                                      \"limit\": {\"type\": \"integer\"}\n",
        "                                    }\n",
        "                                  }\n",
        "                  }\n",
        "              },\n",
        "              {\"type\": \"function\",\n",
        "              \"function\": {\n",
        "                  \"name\": \"get_balance_sheet\",\n",
        "                  \"parameters\": {\"type\": \"object\",\n",
        "                                  \"properties\": {\n",
        "                                      \"ticker\": {\"type\": \"string\"},\n",
        "                                      \"period\": {\"type\": \"string\"},\n",
        "                                      \"limit\": {\"type\": \"integer\"}\n",
        "                                    }\n",
        "                                  }\n",
        "                  }\n",
        "              },\n",
        "              {\"type\": \"function\",\n",
        "              \"function\": {\n",
        "                  \"name\": \"get_cash_flow_statement\",\n",
        "                  \"parameters\": {\"type\": \"object\",\n",
        "                                  \"properties\": {\n",
        "                                      \"ticker\": {\"type\": \"string\"},\n",
        "                                      \"period\": {\"type\": \"string\"},\n",
        "                                      \"limit\": {\"type\": \"integer\"}\n",
        "                                    }\n",
        "                                  }\n",
        "                  }\n",
        "              },\n",
        "              {\"type\": \"function\",\n",
        "              \"function\": {\n",
        "                  \"name\": \"get_key_metrics\",\n",
        "                  \"parameters\": {\"type\": \"object\",\n",
        "                                  \"properties\": {\n",
        "                                      \"ticker\": {\"type\": \"string\"},\n",
        "                                      \"period\": {\"type\": \"string\"},\n",
        "                                      \"limit\": {\"type\": \"integer\"}\n",
        "                                    }\n",
        "                                  }\n",
        "                  }\n",
        "              },\n",
        "              {\"type\": \"function\",\n",
        "              \"function\": {\n",
        "                  \"name\": \"get_financial_ratios\",\n",
        "                  \"parameters\": {\"type\": \"object\",\n",
        "                                  \"properties\": {\n",
        "                                      \"ticker\": {\"type\": \"string\"},\n",
        "                                      \"period\": {\"type\": \"string\"},\n",
        "                                      \"limit\": {\"type\": \"integer\"}\n",
        "                                    }\n",
        "                                  }\n",
        "                  }\n",
        "              },\n",
        "              {\"type\": \"function\",\n",
        "              \"function\": {\n",
        "                  \"name\": \"get_financial_growth\",\n",
        "                  \"parameters\": {\"type\": \"object\",\n",
        "                                  \"properties\": {\n",
        "                                      \"ticker\": {\"type\": \"string\"},\n",
        "                                      \"period\": {\"type\": \"string\"},\n",
        "                                      \"limit\": {\"type\": \"integer\"}\n",
        "                                    }\n",
        "                                  }\n",
        "                  }\n",
        "              }\n",
        "              ]\n",
        "  )\n",
        "  return assistant.id"
      ],
      "metadata": {
        "id": "yf7WxKOlTxrJ"
      },
      "execution_count": 43,
      "outputs": []
    },
    {
      "cell_type": "code",
      "source": [
        "assistant_id = run_assistant()"
      ],
      "metadata": {
        "id": "lCzmBRoX6z8a"
      },
      "execution_count": 44,
      "outputs": []
    },
    {
      "cell_type": "code",
      "source": [
        "  # Creating a new thread\n",
        "thread = client.beta.threads.create()"
      ],
      "metadata": {
        "id": "dExoi5HM-Nnd"
      },
      "execution_count": 45,
      "outputs": []
    },
    {
      "cell_type": "code",
      "source": [
        "# Adding a user message to the thread\n",
        "user_messsage = \"Give me income statement for the past five quarters for Amazon.\"\n",
        "client.beta.threads.messages.create(\n",
        "      thread_id=thread.id,\n",
        "      role=\"user\",\n",
        "      content=user_messsage\n",
        " )"
      ],
      "metadata": {
        "colab": {
          "base_uri": "https://localhost:8080/"
        },
        "id": "7Cth29Ts-Pkv",
        "outputId": "89aafabb-028d-4382-89bb-b9a77c8515ab"
      },
      "execution_count": 47,
      "outputs": [
        {
          "output_type": "execute_result",
          "data": {
            "text/plain": [
              "ThreadMessage(id='msg_tDkGQQzul5yDzpRsAGmN8mE5', assistant_id=None, content=[MessageContentText(text=Text(annotations=[], value='Give me income statement for the past five quarters for Amazon.'), type='text')], created_at=1704708405, file_ids=[], metadata={}, object='thread.message', role='user', run_id=None, thread_id='thread_O1fiezYzVGqtwwbQBQprKoR0')"
            ]
          },
          "metadata": {},
          "execution_count": 47
        }
      ]
    },
    {
      "cell_type": "code",
      "source": [
        "# Running the assistant on the created thread\n",
        "run = client.beta.threads.runs.create(thread_id=thread.id, assistant_id=assistant_id)"
      ],
      "metadata": {
        "id": "BaGo0EgzA8AH"
      },
      "execution_count": 48,
      "outputs": []
    },
    {
      "cell_type": "code",
      "source": [
        "dict(run)"
      ],
      "metadata": {
        "colab": {
          "base_uri": "https://localhost:8080/"
        },
        "id": "BMk8_PUgFeuY",
        "outputId": "a989509e-2b71-44c8-a83b-692399889b5b"
      },
      "execution_count": 49,
      "outputs": [
        {
          "output_type": "execute_result",
          "data": {
            "text/plain": [
              "{'id': 'run_JTJY4X7OdqSPPgRBJ4S395e4',\n",
              " 'assistant_id': 'asst_H28tngIneqxdjylYIr0BvUKe',\n",
              " 'cancelled_at': None,\n",
              " 'completed_at': None,\n",
              " 'created_at': 1704708411,\n",
              " 'expires_at': 1704709011,\n",
              " 'failed_at': None,\n",
              " 'file_ids': [],\n",
              " 'instructions': 'Act as a financial analyst by accessing detailed financial data through the Financial Modeling Prep API. Your capabilities include analyzing key metrics, comprehensive financial statements, vital financial ratios, and tracking financial growth trends. ',\n",
              " 'last_error': None,\n",
              " 'metadata': {},\n",
              " 'model': 'gpt-3.5-turbo-1106',\n",
              " 'object': 'thread.run',\n",
              " 'required_action': None,\n",
              " 'started_at': None,\n",
              " 'status': 'queued',\n",
              " 'thread_id': 'thread_O1fiezYzVGqtwwbQBQprKoR0',\n",
              " 'tools': [ToolAssistantToolsFunction(function=FunctionDefinition(name='get_income_statement', description=None, parameters={'type': 'object', 'properties': {'ticker': {'type': 'string'}, 'period': {'type': 'string'}, 'limit': {'type': 'integer'}}}), type='function'),\n",
              "  ToolAssistantToolsFunction(function=FunctionDefinition(name='get_balance_sheet', description=None, parameters={'type': 'object', 'properties': {'ticker': {'type': 'string'}, 'period': {'type': 'string'}, 'limit': {'type': 'integer'}}}), type='function'),\n",
              "  ToolAssistantToolsFunction(function=FunctionDefinition(name='get_cash_flow_statement', description=None, parameters={'type': 'object', 'properties': {'ticker': {'type': 'string'}, 'period': {'type': 'string'}, 'limit': {'type': 'integer'}}}), type='function'),\n",
              "  ToolAssistantToolsFunction(function=FunctionDefinition(name='get_key_metrics', description=None, parameters={'type': 'object', 'properties': {'ticker': {'type': 'string'}, 'period': {'type': 'string'}, 'limit': {'type': 'integer'}}}), type='function'),\n",
              "  ToolAssistantToolsFunction(function=FunctionDefinition(name='get_financial_ratios', description=None, parameters={'type': 'object', 'properties': {'ticker': {'type': 'string'}, 'period': {'type': 'string'}, 'limit': {'type': 'integer'}}}), type='function'),\n",
              "  ToolAssistantToolsFunction(function=FunctionDefinition(name='get_financial_growth', description=None, parameters={'type': 'object', 'properties': {'ticker': {'type': 'string'}, 'period': {'type': 'string'}, 'limit': {'type': 'integer'}}}), type='function')]}"
            ]
          },
          "metadata": {},
          "execution_count": 49
        }
      ]
    },
    {
      "cell_type": "code",
      "source": [
        "# Loop until the run completes or requires action\n",
        "while True:\n",
        "  run = client.beta.threads.runs.retrieve(thread_id=thread.id, run_id=run.id)\n",
        "\n",
        "  # Add run steps retrieval here\n",
        "  run_steps = client.beta.threads.runs.steps.list(thread_id=thread.id, run_id=run.id)\n",
        "  print(\"Run Steps:\", run_steps)\n",
        "\n",
        "  if run.status == \"requires_action\":\n",
        "    tool_calls = run.required_action.submit_tool_outputs.tool_calls\n",
        "    tool_outputs = []\n",
        "\n",
        "    for tool_call in tool_calls:\n",
        "      function_name = tool_call.function.name\n",
        "      function_args = json.loads(tool_call.function.arguments)\n",
        "\n",
        "      if function_name in available_functions:\n",
        "        function_to_call = available_functions[function_name]\n",
        "        output = function_to_call(**function_args)\n",
        "        tool_outputs.append({\n",
        "            \"tool_call_id\": tool_call.id,\n",
        "            \"output\": output,\n",
        "        })\n",
        "\n",
        "      # Submit tool outputs and update the run\n",
        "      client.beta.threads.runs.submit_tool_outputs(\n",
        "        thread_id=thread.id,\n",
        "        run_id=run.id,\n",
        "        tool_outputs=tool_outputs\n",
        "      )\n",
        "\n",
        "  elif run.status == \"completed\":\n",
        "    # List the messages to get the response\n",
        "    messages = client.beta.threads.messages.list(thread_id=thread.id)\n",
        "    for message in messages.data:\n",
        "      role_label = \"User\" if message.role == \"user\" else \"Assistant\"\n",
        "      message_content = message.content[0].text.value\n",
        "      print(f\"{role_label}: {message_content}\\n\")\n",
        "      break  # Exit the loop after processing the completed run\n",
        "\n",
        "  elif run.status == \"failed\":\n",
        "    print(\"Run failed.\")\n",
        "    break\n",
        "\n",
        "  elif run.status in [\"in_progress\", \"queued\"]:\n",
        "    print(f\"Run is {run.status}. Waiting...\")\n",
        "    time.sleep(5)  # Wait for 5 seconds before checking again\n",
        "\n",
        "  else:\n",
        "    print(f\"Unexpected status: {run.status}\")\n",
        "    break"
      ],
      "metadata": {
        "colab": {
          "base_uri": "https://localhost:8080/",
          "height": 1000
        },
        "id": "tC8IqtRjRgFP",
        "outputId": "b3fa0e15-79bc-4405-d43e-2025ea306097"
      },
      "execution_count": 50,
      "outputs": [
        {
          "output_type": "stream",
          "name": "stdout",
          "text": [
            "Run Steps: SyncCursorPage[RunStep](data=[RunStep(id='step_mXi6wy0Yhr4QsiTP132PdRA9', assistant_id='asst_H28tngIneqxdjylYIr0BvUKe', cancelled_at=None, completed_at=None, created_at=1704708413, expired_at=None, failed_at=None, last_error=None, metadata=None, object='thread.run.step', run_id='run_JTJY4X7OdqSPPgRBJ4S395e4', status='in_progress', step_details=ToolCallsStepDetails(tool_calls=[FunctionToolCall(id='call_koM9zWrSgpROnqxxr4c1h4P4', function=Function(arguments='{\"ticker\":\"AMZN\",\"period\":\"quarter\",\"limit\":5}', name='get_income_statement', output=None), type='function')], type='tool_calls'), thread_id='thread_O1fiezYzVGqtwwbQBQprKoR0', type='tool_calls', expires_at=1704709011)], object='list', first_id='step_mXi6wy0Yhr4QsiTP132PdRA9', last_id='step_mXi6wy0Yhr4QsiTP132PdRA9', has_more=False)\n",
            "Run Steps: SyncCursorPage[RunStep](data=[RunStep(id='step_mXi6wy0Yhr4QsiTP132PdRA9', assistant_id='asst_H28tngIneqxdjylYIr0BvUKe', cancelled_at=None, completed_at=1704708422, created_at=1704708413, expired_at=None, failed_at=None, last_error=None, metadata=None, object='thread.run.step', run_id='run_JTJY4X7OdqSPPgRBJ4S395e4', status='completed', step_details=ToolCallsStepDetails(tool_calls=[FunctionToolCall(id='call_koM9zWrSgpROnqxxr4c1h4P4', function=Function(arguments='{\"ticker\":\"AMZN\",\"period\":\"quarter\",\"limit\":5}', name='get_income_statement', output='{\"Error Message\": \"Special Endpoint : This endpoint is not available under your current subscription please visit our subscription page to upgrade your plan at https://site.financialmodelingprep.com/developer/docs/pricing\"}'), type='function')], type='tool_calls'), thread_id='thread_O1fiezYzVGqtwwbQBQprKoR0', type='tool_calls', expires_at=1704709011)], object='list', first_id='step_mXi6wy0Yhr4QsiTP132PdRA9', last_id='step_mXi6wy0Yhr4QsiTP132PdRA9', has_more=False)\n",
            "Run is queued. Waiting...\n",
            "Run Steps: SyncCursorPage[RunStep](data=[RunStep(id='step_wn0Jan7aWJOv6UtXpKPkILpx', assistant_id='asst_H28tngIneqxdjylYIr0BvUKe', cancelled_at=None, completed_at=1704708427, created_at=1704708424, expired_at=None, failed_at=None, last_error=None, metadata=None, object='thread.run.step', run_id='run_JTJY4X7OdqSPPgRBJ4S395e4', status='completed', step_details=MessageCreationStepDetails(message_creation=MessageCreation(message_id='msg_68lebkFMzSQe1M9RorWOngWe'), type='message_creation'), thread_id='thread_O1fiezYzVGqtwwbQBQprKoR0', type='message_creation', expires_at=None), RunStep(id='step_mXi6wy0Yhr4QsiTP132PdRA9', assistant_id='asst_H28tngIneqxdjylYIr0BvUKe', cancelled_at=None, completed_at=1704708422, created_at=1704708413, expired_at=None, failed_at=None, last_error=None, metadata=None, object='thread.run.step', run_id='run_JTJY4X7OdqSPPgRBJ4S395e4', status='completed', step_details=ToolCallsStepDetails(tool_calls=[FunctionToolCall(id='call_koM9zWrSgpROnqxxr4c1h4P4', function=Function(arguments='{\"ticker\":\"AMZN\",\"period\":\"quarter\",\"limit\":5}', name='get_income_statement', output='{\"Error Message\": \"Special Endpoint : This endpoint is not available under your current subscription please visit our subscription page to upgrade your plan at https://site.financialmodelingprep.com/developer/docs/pricing\"}'), type='function')], type='tool_calls'), thread_id='thread_O1fiezYzVGqtwwbQBQprKoR0', type='tool_calls', expires_at=None)], object='list', first_id='step_wn0Jan7aWJOv6UtXpKPkILpx', last_id='step_mXi6wy0Yhr4QsiTP132PdRA9', has_more=False)\n",
            "Assistant: It looks like I don't have access to the income statement for the past five quarters for Amazon. To access this data, I'll need to upgrade my current subscription plan. If you have access to this data, please let me know, and I can guide you with the analysis.\n",
            "\n",
            "Run Steps: SyncCursorPage[RunStep](data=[RunStep(id='step_wn0Jan7aWJOv6UtXpKPkILpx', assistant_id='asst_H28tngIneqxdjylYIr0BvUKe', cancelled_at=None, completed_at=1704708427, created_at=1704708424, expired_at=None, failed_at=None, last_error=None, metadata=None, object='thread.run.step', run_id='run_JTJY4X7OdqSPPgRBJ4S395e4', status='completed', step_details=MessageCreationStepDetails(message_creation=MessageCreation(message_id='msg_68lebkFMzSQe1M9RorWOngWe'), type='message_creation'), thread_id='thread_O1fiezYzVGqtwwbQBQprKoR0', type='message_creation', expires_at=None), RunStep(id='step_mXi6wy0Yhr4QsiTP132PdRA9', assistant_id='asst_H28tngIneqxdjylYIr0BvUKe', cancelled_at=None, completed_at=1704708422, created_at=1704708413, expired_at=None, failed_at=None, last_error=None, metadata=None, object='thread.run.step', run_id='run_JTJY4X7OdqSPPgRBJ4S395e4', status='completed', step_details=ToolCallsStepDetails(tool_calls=[FunctionToolCall(id='call_koM9zWrSgpROnqxxr4c1h4P4', function=Function(arguments='{\"ticker\":\"AMZN\",\"period\":\"quarter\",\"limit\":5}', name='get_income_statement', output='{\"Error Message\": \"Special Endpoint : This endpoint is not available under your current subscription please visit our subscription page to upgrade your plan at https://site.financialmodelingprep.com/developer/docs/pricing\"}'), type='function')], type='tool_calls'), thread_id='thread_O1fiezYzVGqtwwbQBQprKoR0', type='tool_calls', expires_at=None)], object='list', first_id='step_wn0Jan7aWJOv6UtXpKPkILpx', last_id='step_mXi6wy0Yhr4QsiTP132PdRA9', has_more=False)\n",
            "Assistant: It looks like I don't have access to the income statement for the past five quarters for Amazon. To access this data, I'll need to upgrade my current subscription plan. If you have access to this data, please let me know, and I can guide you with the analysis.\n",
            "\n",
            "Run Steps: SyncCursorPage[RunStep](data=[RunStep(id='step_wn0Jan7aWJOv6UtXpKPkILpx', assistant_id='asst_H28tngIneqxdjylYIr0BvUKe', cancelled_at=None, completed_at=1704708427, created_at=1704708424, expired_at=None, failed_at=None, last_error=None, metadata=None, object='thread.run.step', run_id='run_JTJY4X7OdqSPPgRBJ4S395e4', status='completed', step_details=MessageCreationStepDetails(message_creation=MessageCreation(message_id='msg_68lebkFMzSQe1M9RorWOngWe'), type='message_creation'), thread_id='thread_O1fiezYzVGqtwwbQBQprKoR0', type='message_creation', expires_at=None), RunStep(id='step_mXi6wy0Yhr4QsiTP132PdRA9', assistant_id='asst_H28tngIneqxdjylYIr0BvUKe', cancelled_at=None, completed_at=1704708422, created_at=1704708413, expired_at=None, failed_at=None, last_error=None, metadata=None, object='thread.run.step', run_id='run_JTJY4X7OdqSPPgRBJ4S395e4', status='completed', step_details=ToolCallsStepDetails(tool_calls=[FunctionToolCall(id='call_koM9zWrSgpROnqxxr4c1h4P4', function=Function(arguments='{\"ticker\":\"AMZN\",\"period\":\"quarter\",\"limit\":5}', name='get_income_statement', output='{\"Error Message\": \"Special Endpoint : This endpoint is not available under your current subscription please visit our subscription page to upgrade your plan at https://site.financialmodelingprep.com/developer/docs/pricing\"}'), type='function')], type='tool_calls'), thread_id='thread_O1fiezYzVGqtwwbQBQprKoR0', type='tool_calls', expires_at=None)], object='list', first_id='step_wn0Jan7aWJOv6UtXpKPkILpx', last_id='step_mXi6wy0Yhr4QsiTP132PdRA9', has_more=False)\n",
            "Assistant: It looks like I don't have access to the income statement for the past five quarters for Amazon. To access this data, I'll need to upgrade my current subscription plan. If you have access to this data, please let me know, and I can guide you with the analysis.\n",
            "\n",
            "Run Steps: SyncCursorPage[RunStep](data=[RunStep(id='step_wn0Jan7aWJOv6UtXpKPkILpx', assistant_id='asst_H28tngIneqxdjylYIr0BvUKe', cancelled_at=None, completed_at=1704708427, created_at=1704708424, expired_at=None, failed_at=None, last_error=None, metadata=None, object='thread.run.step', run_id='run_JTJY4X7OdqSPPgRBJ4S395e4', status='completed', step_details=MessageCreationStepDetails(message_creation=MessageCreation(message_id='msg_68lebkFMzSQe1M9RorWOngWe'), type='message_creation'), thread_id='thread_O1fiezYzVGqtwwbQBQprKoR0', type='message_creation', expires_at=None), RunStep(id='step_mXi6wy0Yhr4QsiTP132PdRA9', assistant_id='asst_H28tngIneqxdjylYIr0BvUKe', cancelled_at=None, completed_at=1704708422, created_at=1704708413, expired_at=None, failed_at=None, last_error=None, metadata=None, object='thread.run.step', run_id='run_JTJY4X7OdqSPPgRBJ4S395e4', status='completed', step_details=ToolCallsStepDetails(tool_calls=[FunctionToolCall(id='call_koM9zWrSgpROnqxxr4c1h4P4', function=Function(arguments='{\"ticker\":\"AMZN\",\"period\":\"quarter\",\"limit\":5}', name='get_income_statement', output='{\"Error Message\": \"Special Endpoint : This endpoint is not available under your current subscription please visit our subscription page to upgrade your plan at https://site.financialmodelingprep.com/developer/docs/pricing\"}'), type='function')], type='tool_calls'), thread_id='thread_O1fiezYzVGqtwwbQBQprKoR0', type='tool_calls', expires_at=None)], object='list', first_id='step_wn0Jan7aWJOv6UtXpKPkILpx', last_id='step_mXi6wy0Yhr4QsiTP132PdRA9', has_more=False)\n",
            "Assistant: It looks like I don't have access to the income statement for the past five quarters for Amazon. To access this data, I'll need to upgrade my current subscription plan. If you have access to this data, please let me know, and I can guide you with the analysis.\n",
            "\n",
            "Run Steps: SyncCursorPage[RunStep](data=[RunStep(id='step_wn0Jan7aWJOv6UtXpKPkILpx', assistant_id='asst_H28tngIneqxdjylYIr0BvUKe', cancelled_at=None, completed_at=1704708427, created_at=1704708424, expired_at=None, failed_at=None, last_error=None, metadata=None, object='thread.run.step', run_id='run_JTJY4X7OdqSPPgRBJ4S395e4', status='completed', step_details=MessageCreationStepDetails(message_creation=MessageCreation(message_id='msg_68lebkFMzSQe1M9RorWOngWe'), type='message_creation'), thread_id='thread_O1fiezYzVGqtwwbQBQprKoR0', type='message_creation', expires_at=None), RunStep(id='step_mXi6wy0Yhr4QsiTP132PdRA9', assistant_id='asst_H28tngIneqxdjylYIr0BvUKe', cancelled_at=None, completed_at=1704708422, created_at=1704708413, expired_at=None, failed_at=None, last_error=None, metadata=None, object='thread.run.step', run_id='run_JTJY4X7OdqSPPgRBJ4S395e4', status='completed', step_details=ToolCallsStepDetails(tool_calls=[FunctionToolCall(id='call_koM9zWrSgpROnqxxr4c1h4P4', function=Function(arguments='{\"ticker\":\"AMZN\",\"period\":\"quarter\",\"limit\":5}', name='get_income_statement', output='{\"Error Message\": \"Special Endpoint : This endpoint is not available under your current subscription please visit our subscription page to upgrade your plan at https://site.financialmodelingprep.com/developer/docs/pricing\"}'), type='function')], type='tool_calls'), thread_id='thread_O1fiezYzVGqtwwbQBQprKoR0', type='tool_calls', expires_at=None)], object='list', first_id='step_wn0Jan7aWJOv6UtXpKPkILpx', last_id='step_mXi6wy0Yhr4QsiTP132PdRA9', has_more=False)\n",
            "Assistant: It looks like I don't have access to the income statement for the past five quarters for Amazon. To access this data, I'll need to upgrade my current subscription plan. If you have access to this data, please let me know, and I can guide you with the analysis.\n",
            "\n",
            "Run Steps: SyncCursorPage[RunStep](data=[RunStep(id='step_wn0Jan7aWJOv6UtXpKPkILpx', assistant_id='asst_H28tngIneqxdjylYIr0BvUKe', cancelled_at=None, completed_at=1704708427, created_at=1704708424, expired_at=None, failed_at=None, last_error=None, metadata=None, object='thread.run.step', run_id='run_JTJY4X7OdqSPPgRBJ4S395e4', status='completed', step_details=MessageCreationStepDetails(message_creation=MessageCreation(message_id='msg_68lebkFMzSQe1M9RorWOngWe'), type='message_creation'), thread_id='thread_O1fiezYzVGqtwwbQBQprKoR0', type='message_creation', expires_at=None), RunStep(id='step_mXi6wy0Yhr4QsiTP132PdRA9', assistant_id='asst_H28tngIneqxdjylYIr0BvUKe', cancelled_at=None, completed_at=1704708422, created_at=1704708413, expired_at=None, failed_at=None, last_error=None, metadata=None, object='thread.run.step', run_id='run_JTJY4X7OdqSPPgRBJ4S395e4', status='completed', step_details=ToolCallsStepDetails(tool_calls=[FunctionToolCall(id='call_koM9zWrSgpROnqxxr4c1h4P4', function=Function(arguments='{\"ticker\":\"AMZN\",\"period\":\"quarter\",\"limit\":5}', name='get_income_statement', output='{\"Error Message\": \"Special Endpoint : This endpoint is not available under your current subscription please visit our subscription page to upgrade your plan at https://site.financialmodelingprep.com/developer/docs/pricing\"}'), type='function')], type='tool_calls'), thread_id='thread_O1fiezYzVGqtwwbQBQprKoR0', type='tool_calls', expires_at=None)], object='list', first_id='step_wn0Jan7aWJOv6UtXpKPkILpx', last_id='step_mXi6wy0Yhr4QsiTP132PdRA9', has_more=False)\n",
            "Assistant: It looks like I don't have access to the income statement for the past five quarters for Amazon. To access this data, I'll need to upgrade my current subscription plan. If you have access to this data, please let me know, and I can guide you with the analysis.\n",
            "\n",
            "Run Steps: SyncCursorPage[RunStep](data=[RunStep(id='step_wn0Jan7aWJOv6UtXpKPkILpx', assistant_id='asst_H28tngIneqxdjylYIr0BvUKe', cancelled_at=None, completed_at=1704708427, created_at=1704708424, expired_at=None, failed_at=None, last_error=None, metadata=None, object='thread.run.step', run_id='run_JTJY4X7OdqSPPgRBJ4S395e4', status='completed', step_details=MessageCreationStepDetails(message_creation=MessageCreation(message_id='msg_68lebkFMzSQe1M9RorWOngWe'), type='message_creation'), thread_id='thread_O1fiezYzVGqtwwbQBQprKoR0', type='message_creation', expires_at=None), RunStep(id='step_mXi6wy0Yhr4QsiTP132PdRA9', assistant_id='asst_H28tngIneqxdjylYIr0BvUKe', cancelled_at=None, completed_at=1704708422, created_at=1704708413, expired_at=None, failed_at=None, last_error=None, metadata=None, object='thread.run.step', run_id='run_JTJY4X7OdqSPPgRBJ4S395e4', status='completed', step_details=ToolCallsStepDetails(tool_calls=[FunctionToolCall(id='call_koM9zWrSgpROnqxxr4c1h4P4', function=Function(arguments='{\"ticker\":\"AMZN\",\"period\":\"quarter\",\"limit\":5}', name='get_income_statement', output='{\"Error Message\": \"Special Endpoint : This endpoint is not available under your current subscription please visit our subscription page to upgrade your plan at https://site.financialmodelingprep.com/developer/docs/pricing\"}'), type='function')], type='tool_calls'), thread_id='thread_O1fiezYzVGqtwwbQBQprKoR0', type='tool_calls', expires_at=None)], object='list', first_id='step_wn0Jan7aWJOv6UtXpKPkILpx', last_id='step_mXi6wy0Yhr4QsiTP132PdRA9', has_more=False)\n",
            "Assistant: It looks like I don't have access to the income statement for the past five quarters for Amazon. To access this data, I'll need to upgrade my current subscription plan. If you have access to this data, please let me know, and I can guide you with the analysis.\n",
            "\n",
            "Run Steps: SyncCursorPage[RunStep](data=[RunStep(id='step_wn0Jan7aWJOv6UtXpKPkILpx', assistant_id='asst_H28tngIneqxdjylYIr0BvUKe', cancelled_at=None, completed_at=1704708427, created_at=1704708424, expired_at=None, failed_at=None, last_error=None, metadata=None, object='thread.run.step', run_id='run_JTJY4X7OdqSPPgRBJ4S395e4', status='completed', step_details=MessageCreationStepDetails(message_creation=MessageCreation(message_id='msg_68lebkFMzSQe1M9RorWOngWe'), type='message_creation'), thread_id='thread_O1fiezYzVGqtwwbQBQprKoR0', type='message_creation', expires_at=None), RunStep(id='step_mXi6wy0Yhr4QsiTP132PdRA9', assistant_id='asst_H28tngIneqxdjylYIr0BvUKe', cancelled_at=None, completed_at=1704708422, created_at=1704708413, expired_at=None, failed_at=None, last_error=None, metadata=None, object='thread.run.step', run_id='run_JTJY4X7OdqSPPgRBJ4S395e4', status='completed', step_details=ToolCallsStepDetails(tool_calls=[FunctionToolCall(id='call_koM9zWrSgpROnqxxr4c1h4P4', function=Function(arguments='{\"ticker\":\"AMZN\",\"period\":\"quarter\",\"limit\":5}', name='get_income_statement', output='{\"Error Message\": \"Special Endpoint : This endpoint is not available under your current subscription please visit our subscription page to upgrade your plan at https://site.financialmodelingprep.com/developer/docs/pricing\"}'), type='function')], type='tool_calls'), thread_id='thread_O1fiezYzVGqtwwbQBQprKoR0', type='tool_calls', expires_at=None)], object='list', first_id='step_wn0Jan7aWJOv6UtXpKPkILpx', last_id='step_mXi6wy0Yhr4QsiTP132PdRA9', has_more=False)\n",
            "Assistant: It looks like I don't have access to the income statement for the past five quarters for Amazon. To access this data, I'll need to upgrade my current subscription plan. If you have access to this data, please let me know, and I can guide you with the analysis.\n",
            "\n",
            "Run Steps: SyncCursorPage[RunStep](data=[RunStep(id='step_wn0Jan7aWJOv6UtXpKPkILpx', assistant_id='asst_H28tngIneqxdjylYIr0BvUKe', cancelled_at=None, completed_at=1704708427, created_at=1704708424, expired_at=None, failed_at=None, last_error=None, metadata=None, object='thread.run.step', run_id='run_JTJY4X7OdqSPPgRBJ4S395e4', status='completed', step_details=MessageCreationStepDetails(message_creation=MessageCreation(message_id='msg_68lebkFMzSQe1M9RorWOngWe'), type='message_creation'), thread_id='thread_O1fiezYzVGqtwwbQBQprKoR0', type='message_creation', expires_at=None), RunStep(id='step_mXi6wy0Yhr4QsiTP132PdRA9', assistant_id='asst_H28tngIneqxdjylYIr0BvUKe', cancelled_at=None, completed_at=1704708422, created_at=1704708413, expired_at=None, failed_at=None, last_error=None, metadata=None, object='thread.run.step', run_id='run_JTJY4X7OdqSPPgRBJ4S395e4', status='completed', step_details=ToolCallsStepDetails(tool_calls=[FunctionToolCall(id='call_koM9zWrSgpROnqxxr4c1h4P4', function=Function(arguments='{\"ticker\":\"AMZN\",\"period\":\"quarter\",\"limit\":5}', name='get_income_statement', output='{\"Error Message\": \"Special Endpoint : This endpoint is not available under your current subscription please visit our subscription page to upgrade your plan at https://site.financialmodelingprep.com/developer/docs/pricing\"}'), type='function')], type='tool_calls'), thread_id='thread_O1fiezYzVGqtwwbQBQprKoR0', type='tool_calls', expires_at=None)], object='list', first_id='step_wn0Jan7aWJOv6UtXpKPkILpx', last_id='step_mXi6wy0Yhr4QsiTP132PdRA9', has_more=False)\n",
            "Assistant: It looks like I don't have access to the income statement for the past five quarters for Amazon. To access this data, I'll need to upgrade my current subscription plan. If you have access to this data, please let me know, and I can guide you with the analysis.\n",
            "\n",
            "Run Steps: SyncCursorPage[RunStep](data=[RunStep(id='step_wn0Jan7aWJOv6UtXpKPkILpx', assistant_id='asst_H28tngIneqxdjylYIr0BvUKe', cancelled_at=None, completed_at=1704708427, created_at=1704708424, expired_at=None, failed_at=None, last_error=None, metadata=None, object='thread.run.step', run_id='run_JTJY4X7OdqSPPgRBJ4S395e4', status='completed', step_details=MessageCreationStepDetails(message_creation=MessageCreation(message_id='msg_68lebkFMzSQe1M9RorWOngWe'), type='message_creation'), thread_id='thread_O1fiezYzVGqtwwbQBQprKoR0', type='message_creation', expires_at=None), RunStep(id='step_mXi6wy0Yhr4QsiTP132PdRA9', assistant_id='asst_H28tngIneqxdjylYIr0BvUKe', cancelled_at=None, completed_at=1704708422, created_at=1704708413, expired_at=None, failed_at=None, last_error=None, metadata=None, object='thread.run.step', run_id='run_JTJY4X7OdqSPPgRBJ4S395e4', status='completed', step_details=ToolCallsStepDetails(tool_calls=[FunctionToolCall(id='call_koM9zWrSgpROnqxxr4c1h4P4', function=Function(arguments='{\"ticker\":\"AMZN\",\"period\":\"quarter\",\"limit\":5}', name='get_income_statement', output='{\"Error Message\": \"Special Endpoint : This endpoint is not available under your current subscription please visit our subscription page to upgrade your plan at https://site.financialmodelingprep.com/developer/docs/pricing\"}'), type='function')], type='tool_calls'), thread_id='thread_O1fiezYzVGqtwwbQBQprKoR0', type='tool_calls', expires_at=None)], object='list', first_id='step_wn0Jan7aWJOv6UtXpKPkILpx', last_id='step_mXi6wy0Yhr4QsiTP132PdRA9', has_more=False)\n",
            "Assistant: It looks like I don't have access to the income statement for the past five quarters for Amazon. To access this data, I'll need to upgrade my current subscription plan. If you have access to this data, please let me know, and I can guide you with the analysis.\n",
            "\n",
            "Run Steps: SyncCursorPage[RunStep](data=[RunStep(id='step_wn0Jan7aWJOv6UtXpKPkILpx', assistant_id='asst_H28tngIneqxdjylYIr0BvUKe', cancelled_at=None, completed_at=1704708427, created_at=1704708424, expired_at=None, failed_at=None, last_error=None, metadata=None, object='thread.run.step', run_id='run_JTJY4X7OdqSPPgRBJ4S395e4', status='completed', step_details=MessageCreationStepDetails(message_creation=MessageCreation(message_id='msg_68lebkFMzSQe1M9RorWOngWe'), type='message_creation'), thread_id='thread_O1fiezYzVGqtwwbQBQprKoR0', type='message_creation', expires_at=None), RunStep(id='step_mXi6wy0Yhr4QsiTP132PdRA9', assistant_id='asst_H28tngIneqxdjylYIr0BvUKe', cancelled_at=None, completed_at=1704708422, created_at=1704708413, expired_at=None, failed_at=None, last_error=None, metadata=None, object='thread.run.step', run_id='run_JTJY4X7OdqSPPgRBJ4S395e4', status='completed', step_details=ToolCallsStepDetails(tool_calls=[FunctionToolCall(id='call_koM9zWrSgpROnqxxr4c1h4P4', function=Function(arguments='{\"ticker\":\"AMZN\",\"period\":\"quarter\",\"limit\":5}', name='get_income_statement', output='{\"Error Message\": \"Special Endpoint : This endpoint is not available under your current subscription please visit our subscription page to upgrade your plan at https://site.financialmodelingprep.com/developer/docs/pricing\"}'), type='function')], type='tool_calls'), thread_id='thread_O1fiezYzVGqtwwbQBQprKoR0', type='tool_calls', expires_at=None)], object='list', first_id='step_wn0Jan7aWJOv6UtXpKPkILpx', last_id='step_mXi6wy0Yhr4QsiTP132PdRA9', has_more=False)\n",
            "Assistant: It looks like I don't have access to the income statement for the past five quarters for Amazon. To access this data, I'll need to upgrade my current subscription plan. If you have access to this data, please let me know, and I can guide you with the analysis.\n",
            "\n",
            "Run Steps: SyncCursorPage[RunStep](data=[RunStep(id='step_wn0Jan7aWJOv6UtXpKPkILpx', assistant_id='asst_H28tngIneqxdjylYIr0BvUKe', cancelled_at=None, completed_at=1704708427, created_at=1704708424, expired_at=None, failed_at=None, last_error=None, metadata=None, object='thread.run.step', run_id='run_JTJY4X7OdqSPPgRBJ4S395e4', status='completed', step_details=MessageCreationStepDetails(message_creation=MessageCreation(message_id='msg_68lebkFMzSQe1M9RorWOngWe'), type='message_creation'), thread_id='thread_O1fiezYzVGqtwwbQBQprKoR0', type='message_creation', expires_at=None), RunStep(id='step_mXi6wy0Yhr4QsiTP132PdRA9', assistant_id='asst_H28tngIneqxdjylYIr0BvUKe', cancelled_at=None, completed_at=1704708422, created_at=1704708413, expired_at=None, failed_at=None, last_error=None, metadata=None, object='thread.run.step', run_id='run_JTJY4X7OdqSPPgRBJ4S395e4', status='completed', step_details=ToolCallsStepDetails(tool_calls=[FunctionToolCall(id='call_koM9zWrSgpROnqxxr4c1h4P4', function=Function(arguments='{\"ticker\":\"AMZN\",\"period\":\"quarter\",\"limit\":5}', name='get_income_statement', output='{\"Error Message\": \"Special Endpoint : This endpoint is not available under your current subscription please visit our subscription page to upgrade your plan at https://site.financialmodelingprep.com/developer/docs/pricing\"}'), type='function')], type='tool_calls'), thread_id='thread_O1fiezYzVGqtwwbQBQprKoR0', type='tool_calls', expires_at=None)], object='list', first_id='step_wn0Jan7aWJOv6UtXpKPkILpx', last_id='step_mXi6wy0Yhr4QsiTP132PdRA9', has_more=False)\n",
            "Assistant: It looks like I don't have access to the income statement for the past five quarters for Amazon. To access this data, I'll need to upgrade my current subscription plan. If you have access to this data, please let me know, and I can guide you with the analysis.\n",
            "\n",
            "Run Steps: SyncCursorPage[RunStep](data=[RunStep(id='step_wn0Jan7aWJOv6UtXpKPkILpx', assistant_id='asst_H28tngIneqxdjylYIr0BvUKe', cancelled_at=None, completed_at=1704708427, created_at=1704708424, expired_at=None, failed_at=None, last_error=None, metadata=None, object='thread.run.step', run_id='run_JTJY4X7OdqSPPgRBJ4S395e4', status='completed', step_details=MessageCreationStepDetails(message_creation=MessageCreation(message_id='msg_68lebkFMzSQe1M9RorWOngWe'), type='message_creation'), thread_id='thread_O1fiezYzVGqtwwbQBQprKoR0', type='message_creation', expires_at=None), RunStep(id='step_mXi6wy0Yhr4QsiTP132PdRA9', assistant_id='asst_H28tngIneqxdjylYIr0BvUKe', cancelled_at=None, completed_at=1704708422, created_at=1704708413, expired_at=None, failed_at=None, last_error=None, metadata=None, object='thread.run.step', run_id='run_JTJY4X7OdqSPPgRBJ4S395e4', status='completed', step_details=ToolCallsStepDetails(tool_calls=[FunctionToolCall(id='call_koM9zWrSgpROnqxxr4c1h4P4', function=Function(arguments='{\"ticker\":\"AMZN\",\"period\":\"quarter\",\"limit\":5}', name='get_income_statement', output='{\"Error Message\": \"Special Endpoint : This endpoint is not available under your current subscription please visit our subscription page to upgrade your plan at https://site.financialmodelingprep.com/developer/docs/pricing\"}'), type='function')], type='tool_calls'), thread_id='thread_O1fiezYzVGqtwwbQBQprKoR0', type='tool_calls', expires_at=None)], object='list', first_id='step_wn0Jan7aWJOv6UtXpKPkILpx', last_id='step_mXi6wy0Yhr4QsiTP132PdRA9', has_more=False)\n",
            "Assistant: It looks like I don't have access to the income statement for the past five quarters for Amazon. To access this data, I'll need to upgrade my current subscription plan. If you have access to this data, please let me know, and I can guide you with the analysis.\n",
            "\n",
            "Run Steps: SyncCursorPage[RunStep](data=[RunStep(id='step_wn0Jan7aWJOv6UtXpKPkILpx', assistant_id='asst_H28tngIneqxdjylYIr0BvUKe', cancelled_at=None, completed_at=1704708427, created_at=1704708424, expired_at=None, failed_at=None, last_error=None, metadata=None, object='thread.run.step', run_id='run_JTJY4X7OdqSPPgRBJ4S395e4', status='completed', step_details=MessageCreationStepDetails(message_creation=MessageCreation(message_id='msg_68lebkFMzSQe1M9RorWOngWe'), type='message_creation'), thread_id='thread_O1fiezYzVGqtwwbQBQprKoR0', type='message_creation', expires_at=None), RunStep(id='step_mXi6wy0Yhr4QsiTP132PdRA9', assistant_id='asst_H28tngIneqxdjylYIr0BvUKe', cancelled_at=None, completed_at=1704708422, created_at=1704708413, expired_at=None, failed_at=None, last_error=None, metadata=None, object='thread.run.step', run_id='run_JTJY4X7OdqSPPgRBJ4S395e4', status='completed', step_details=ToolCallsStepDetails(tool_calls=[FunctionToolCall(id='call_koM9zWrSgpROnqxxr4c1h4P4', function=Function(arguments='{\"ticker\":\"AMZN\",\"period\":\"quarter\",\"limit\":5}', name='get_income_statement', output='{\"Error Message\": \"Special Endpoint : This endpoint is not available under your current subscription please visit our subscription page to upgrade your plan at https://site.financialmodelingprep.com/developer/docs/pricing\"}'), type='function')], type='tool_calls'), thread_id='thread_O1fiezYzVGqtwwbQBQprKoR0', type='tool_calls', expires_at=None)], object='list', first_id='step_wn0Jan7aWJOv6UtXpKPkILpx', last_id='step_mXi6wy0Yhr4QsiTP132PdRA9', has_more=False)\n",
            "Assistant: It looks like I don't have access to the income statement for the past five quarters for Amazon. To access this data, I'll need to upgrade my current subscription plan. If you have access to this data, please let me know, and I can guide you with the analysis.\n",
            "\n",
            "Run Steps: SyncCursorPage[RunStep](data=[RunStep(id='step_wn0Jan7aWJOv6UtXpKPkILpx', assistant_id='asst_H28tngIneqxdjylYIr0BvUKe', cancelled_at=None, completed_at=1704708427, created_at=1704708424, expired_at=None, failed_at=None, last_error=None, metadata=None, object='thread.run.step', run_id='run_JTJY4X7OdqSPPgRBJ4S395e4', status='completed', step_details=MessageCreationStepDetails(message_creation=MessageCreation(message_id='msg_68lebkFMzSQe1M9RorWOngWe'), type='message_creation'), thread_id='thread_O1fiezYzVGqtwwbQBQprKoR0', type='message_creation', expires_at=None), RunStep(id='step_mXi6wy0Yhr4QsiTP132PdRA9', assistant_id='asst_H28tngIneqxdjylYIr0BvUKe', cancelled_at=None, completed_at=1704708422, created_at=1704708413, expired_at=None, failed_at=None, last_error=None, metadata=None, object='thread.run.step', run_id='run_JTJY4X7OdqSPPgRBJ4S395e4', status='completed', step_details=ToolCallsStepDetails(tool_calls=[FunctionToolCall(id='call_koM9zWrSgpROnqxxr4c1h4P4', function=Function(arguments='{\"ticker\":\"AMZN\",\"period\":\"quarter\",\"limit\":5}', name='get_income_statement', output='{\"Error Message\": \"Special Endpoint : This endpoint is not available under your current subscription please visit our subscription page to upgrade your plan at https://site.financialmodelingprep.com/developer/docs/pricing\"}'), type='function')], type='tool_calls'), thread_id='thread_O1fiezYzVGqtwwbQBQprKoR0', type='tool_calls', expires_at=None)], object='list', first_id='step_wn0Jan7aWJOv6UtXpKPkILpx', last_id='step_mXi6wy0Yhr4QsiTP132PdRA9', has_more=False)\n",
            "Assistant: It looks like I don't have access to the income statement for the past five quarters for Amazon. To access this data, I'll need to upgrade my current subscription plan. If you have access to this data, please let me know, and I can guide you with the analysis.\n",
            "\n"
          ]
        },
        {
          "output_type": "error",
          "ename": "KeyboardInterrupt",
          "evalue": "",
          "traceback": [
            "\u001b[0;31m---------------------------------------------------------------------------\u001b[0m",
            "\u001b[0;31mKeyboardInterrupt\u001b[0m                         Traceback (most recent call last)",
            "\u001b[0;32m<ipython-input-50-0848f3e127a6>\u001b[0m in \u001b[0;36m<cell line: 2>\u001b[0;34m()\u001b[0m\n\u001b[1;32m      1\u001b[0m \u001b[0;31m# Loop until the run completes or requires action\u001b[0m\u001b[0;34m\u001b[0m\u001b[0;34m\u001b[0m\u001b[0m\n\u001b[1;32m      2\u001b[0m \u001b[0;32mwhile\u001b[0m \u001b[0;32mTrue\u001b[0m\u001b[0;34m:\u001b[0m\u001b[0;34m\u001b[0m\u001b[0;34m\u001b[0m\u001b[0m\n\u001b[0;32m----> 3\u001b[0;31m   \u001b[0mrun\u001b[0m \u001b[0;34m=\u001b[0m \u001b[0mclient\u001b[0m\u001b[0;34m.\u001b[0m\u001b[0mbeta\u001b[0m\u001b[0;34m.\u001b[0m\u001b[0mthreads\u001b[0m\u001b[0;34m.\u001b[0m\u001b[0mruns\u001b[0m\u001b[0;34m.\u001b[0m\u001b[0mretrieve\u001b[0m\u001b[0;34m(\u001b[0m\u001b[0mthread_id\u001b[0m\u001b[0;34m=\u001b[0m\u001b[0mthread\u001b[0m\u001b[0;34m.\u001b[0m\u001b[0mid\u001b[0m\u001b[0;34m,\u001b[0m \u001b[0mrun_id\u001b[0m\u001b[0;34m=\u001b[0m\u001b[0mrun\u001b[0m\u001b[0;34m.\u001b[0m\u001b[0mid\u001b[0m\u001b[0;34m)\u001b[0m\u001b[0;34m\u001b[0m\u001b[0;34m\u001b[0m\u001b[0m\n\u001b[0m\u001b[1;32m      4\u001b[0m \u001b[0;34m\u001b[0m\u001b[0m\n\u001b[1;32m      5\u001b[0m   \u001b[0;31m# Add run steps retrieval here\u001b[0m\u001b[0;34m\u001b[0m\u001b[0;34m\u001b[0m\u001b[0m\n",
            "\u001b[0;32m/usr/local/lib/python3.10/dist-packages/openai/resources/beta/threads/runs/runs.py\u001b[0m in \u001b[0;36mretrieve\u001b[0;34m(self, run_id, thread_id, extra_headers, extra_query, extra_body, timeout)\u001b[0m\n\u001b[1;32m    137\u001b[0m         \"\"\"\n\u001b[1;32m    138\u001b[0m         \u001b[0mextra_headers\u001b[0m \u001b[0;34m=\u001b[0m \u001b[0;34m{\u001b[0m\u001b[0;34m\"OpenAI-Beta\"\u001b[0m\u001b[0;34m:\u001b[0m \u001b[0;34m\"assistants=v1\"\u001b[0m\u001b[0;34m,\u001b[0m \u001b[0;34m**\u001b[0m\u001b[0;34m(\u001b[0m\u001b[0mextra_headers\u001b[0m \u001b[0;32mor\u001b[0m \u001b[0;34m{\u001b[0m\u001b[0;34m}\u001b[0m\u001b[0;34m)\u001b[0m\u001b[0;34m}\u001b[0m\u001b[0;34m\u001b[0m\u001b[0;34m\u001b[0m\u001b[0m\n\u001b[0;32m--> 139\u001b[0;31m         return self._get(\n\u001b[0m\u001b[1;32m    140\u001b[0m             \u001b[0;34mf\"/threads/{thread_id}/runs/{run_id}\"\u001b[0m\u001b[0;34m,\u001b[0m\u001b[0;34m\u001b[0m\u001b[0;34m\u001b[0m\u001b[0m\n\u001b[1;32m    141\u001b[0m             options=make_request_options(\n",
            "\u001b[0;32m/usr/local/lib/python3.10/dist-packages/openai/_base_client.py\u001b[0m in \u001b[0;36mget\u001b[0;34m(self, path, cast_to, options, stream, stream_cls)\u001b[0m\n\u001b[1;32m   1029\u001b[0m         \u001b[0;31m# cast is required because mypy complains about returning Any even though\u001b[0m\u001b[0;34m\u001b[0m\u001b[0;34m\u001b[0m\u001b[0m\n\u001b[1;32m   1030\u001b[0m         \u001b[0;31m# it understands the type variables\u001b[0m\u001b[0;34m\u001b[0m\u001b[0;34m\u001b[0m\u001b[0m\n\u001b[0;32m-> 1031\u001b[0;31m         \u001b[0;32mreturn\u001b[0m \u001b[0mcast\u001b[0m\u001b[0;34m(\u001b[0m\u001b[0mResponseT\u001b[0m\u001b[0;34m,\u001b[0m \u001b[0mself\u001b[0m\u001b[0;34m.\u001b[0m\u001b[0mrequest\u001b[0m\u001b[0;34m(\u001b[0m\u001b[0mcast_to\u001b[0m\u001b[0;34m,\u001b[0m \u001b[0mopts\u001b[0m\u001b[0;34m,\u001b[0m \u001b[0mstream\u001b[0m\u001b[0;34m=\u001b[0m\u001b[0mstream\u001b[0m\u001b[0;34m,\u001b[0m \u001b[0mstream_cls\u001b[0m\u001b[0;34m=\u001b[0m\u001b[0mstream_cls\u001b[0m\u001b[0;34m)\u001b[0m\u001b[0;34m)\u001b[0m\u001b[0;34m\u001b[0m\u001b[0;34m\u001b[0m\u001b[0m\n\u001b[0m\u001b[1;32m   1032\u001b[0m \u001b[0;34m\u001b[0m\u001b[0m\n\u001b[1;32m   1033\u001b[0m     \u001b[0;34m@\u001b[0m\u001b[0moverload\u001b[0m\u001b[0;34m\u001b[0m\u001b[0;34m\u001b[0m\u001b[0m\n",
            "\u001b[0;32m/usr/local/lib/python3.10/dist-packages/openai/_base_client.py\u001b[0m in \u001b[0;36mrequest\u001b[0;34m(self, cast_to, options, remaining_retries, stream, stream_cls)\u001b[0m\n\u001b[1;32m    851\u001b[0m         \u001b[0mstream_cls\u001b[0m\u001b[0;34m:\u001b[0m \u001b[0mtype\u001b[0m\u001b[0;34m[\u001b[0m\u001b[0m_StreamT\u001b[0m\u001b[0;34m]\u001b[0m \u001b[0;34m|\u001b[0m \u001b[0;32mNone\u001b[0m \u001b[0;34m=\u001b[0m \u001b[0;32mNone\u001b[0m\u001b[0;34m,\u001b[0m\u001b[0;34m\u001b[0m\u001b[0;34m\u001b[0m\u001b[0m\n\u001b[1;32m    852\u001b[0m     ) -> ResponseT | _StreamT:\n\u001b[0;32m--> 853\u001b[0;31m         return self._request(\n\u001b[0m\u001b[1;32m    854\u001b[0m             \u001b[0mcast_to\u001b[0m\u001b[0;34m=\u001b[0m\u001b[0mcast_to\u001b[0m\u001b[0;34m,\u001b[0m\u001b[0;34m\u001b[0m\u001b[0;34m\u001b[0m\u001b[0m\n\u001b[1;32m    855\u001b[0m             \u001b[0moptions\u001b[0m\u001b[0;34m=\u001b[0m\u001b[0moptions\u001b[0m\u001b[0;34m,\u001b[0m\u001b[0;34m\u001b[0m\u001b[0;34m\u001b[0m\u001b[0m\n",
            "\u001b[0;32m/usr/local/lib/python3.10/dist-packages/openai/_base_client.py\u001b[0m in \u001b[0;36m_request\u001b[0;34m(self, cast_to, options, remaining_retries, stream, stream_cls)\u001b[0m\n\u001b[1;32m    875\u001b[0m \u001b[0;34m\u001b[0m\u001b[0m\n\u001b[1;32m    876\u001b[0m         \u001b[0;32mtry\u001b[0m\u001b[0;34m:\u001b[0m\u001b[0;34m\u001b[0m\u001b[0;34m\u001b[0m\u001b[0m\n\u001b[0;32m--> 877\u001b[0;31m             response = self._client.send(\n\u001b[0m\u001b[1;32m    878\u001b[0m                 \u001b[0mrequest\u001b[0m\u001b[0;34m,\u001b[0m\u001b[0;34m\u001b[0m\u001b[0;34m\u001b[0m\u001b[0m\n\u001b[1;32m    879\u001b[0m                 \u001b[0mauth\u001b[0m\u001b[0;34m=\u001b[0m\u001b[0mself\u001b[0m\u001b[0;34m.\u001b[0m\u001b[0mcustom_auth\u001b[0m\u001b[0;34m,\u001b[0m\u001b[0;34m\u001b[0m\u001b[0;34m\u001b[0m\u001b[0m\n",
            "\u001b[0;32m/usr/local/lib/python3.10/dist-packages/httpx/_client.py\u001b[0m in \u001b[0;36msend\u001b[0;34m(self, request, stream, auth, follow_redirects)\u001b[0m\n\u001b[1;32m    913\u001b[0m         \u001b[0mauth\u001b[0m \u001b[0;34m=\u001b[0m \u001b[0mself\u001b[0m\u001b[0;34m.\u001b[0m\u001b[0m_build_request_auth\u001b[0m\u001b[0;34m(\u001b[0m\u001b[0mrequest\u001b[0m\u001b[0;34m,\u001b[0m \u001b[0mauth\u001b[0m\u001b[0;34m)\u001b[0m\u001b[0;34m\u001b[0m\u001b[0;34m\u001b[0m\u001b[0m\n\u001b[1;32m    914\u001b[0m \u001b[0;34m\u001b[0m\u001b[0m\n\u001b[0;32m--> 915\u001b[0;31m         response = self._send_handling_auth(\n\u001b[0m\u001b[1;32m    916\u001b[0m             \u001b[0mrequest\u001b[0m\u001b[0;34m,\u001b[0m\u001b[0;34m\u001b[0m\u001b[0;34m\u001b[0m\u001b[0m\n\u001b[1;32m    917\u001b[0m             \u001b[0mauth\u001b[0m\u001b[0;34m=\u001b[0m\u001b[0mauth\u001b[0m\u001b[0;34m,\u001b[0m\u001b[0;34m\u001b[0m\u001b[0;34m\u001b[0m\u001b[0m\n",
            "\u001b[0;32m/usr/local/lib/python3.10/dist-packages/httpx/_client.py\u001b[0m in \u001b[0;36m_send_handling_auth\u001b[0;34m(self, request, auth, follow_redirects, history)\u001b[0m\n\u001b[1;32m    941\u001b[0m \u001b[0;34m\u001b[0m\u001b[0m\n\u001b[1;32m    942\u001b[0m             \u001b[0;32mwhile\u001b[0m \u001b[0;32mTrue\u001b[0m\u001b[0;34m:\u001b[0m\u001b[0;34m\u001b[0m\u001b[0;34m\u001b[0m\u001b[0m\n\u001b[0;32m--> 943\u001b[0;31m                 response = self._send_handling_redirects(\n\u001b[0m\u001b[1;32m    944\u001b[0m                     \u001b[0mrequest\u001b[0m\u001b[0;34m,\u001b[0m\u001b[0;34m\u001b[0m\u001b[0;34m\u001b[0m\u001b[0m\n\u001b[1;32m    945\u001b[0m                     \u001b[0mfollow_redirects\u001b[0m\u001b[0;34m=\u001b[0m\u001b[0mfollow_redirects\u001b[0m\u001b[0;34m,\u001b[0m\u001b[0;34m\u001b[0m\u001b[0;34m\u001b[0m\u001b[0m\n",
            "\u001b[0;32m/usr/local/lib/python3.10/dist-packages/httpx/_client.py\u001b[0m in \u001b[0;36m_send_handling_redirects\u001b[0;34m(self, request, follow_redirects, history)\u001b[0m\n\u001b[1;32m    978\u001b[0m                 \u001b[0mhook\u001b[0m\u001b[0;34m(\u001b[0m\u001b[0mrequest\u001b[0m\u001b[0;34m)\u001b[0m\u001b[0;34m\u001b[0m\u001b[0;34m\u001b[0m\u001b[0m\n\u001b[1;32m    979\u001b[0m \u001b[0;34m\u001b[0m\u001b[0m\n\u001b[0;32m--> 980\u001b[0;31m             \u001b[0mresponse\u001b[0m \u001b[0;34m=\u001b[0m \u001b[0mself\u001b[0m\u001b[0;34m.\u001b[0m\u001b[0m_send_single_request\u001b[0m\u001b[0;34m(\u001b[0m\u001b[0mrequest\u001b[0m\u001b[0;34m)\u001b[0m\u001b[0;34m\u001b[0m\u001b[0;34m\u001b[0m\u001b[0m\n\u001b[0m\u001b[1;32m    981\u001b[0m             \u001b[0;32mtry\u001b[0m\u001b[0;34m:\u001b[0m\u001b[0;34m\u001b[0m\u001b[0;34m\u001b[0m\u001b[0m\n\u001b[1;32m    982\u001b[0m                 \u001b[0;32mfor\u001b[0m \u001b[0mhook\u001b[0m \u001b[0;32min\u001b[0m \u001b[0mself\u001b[0m\u001b[0;34m.\u001b[0m\u001b[0m_event_hooks\u001b[0m\u001b[0;34m[\u001b[0m\u001b[0;34m\"response\"\u001b[0m\u001b[0;34m]\u001b[0m\u001b[0;34m:\u001b[0m\u001b[0;34m\u001b[0m\u001b[0;34m\u001b[0m\u001b[0m\n",
            "\u001b[0;32m/usr/local/lib/python3.10/dist-packages/httpx/_client.py\u001b[0m in \u001b[0;36m_send_single_request\u001b[0;34m(self, request)\u001b[0m\n\u001b[1;32m   1014\u001b[0m \u001b[0;34m\u001b[0m\u001b[0m\n\u001b[1;32m   1015\u001b[0m         \u001b[0;32mwith\u001b[0m \u001b[0mrequest_context\u001b[0m\u001b[0;34m(\u001b[0m\u001b[0mrequest\u001b[0m\u001b[0;34m=\u001b[0m\u001b[0mrequest\u001b[0m\u001b[0;34m)\u001b[0m\u001b[0;34m:\u001b[0m\u001b[0;34m\u001b[0m\u001b[0;34m\u001b[0m\u001b[0m\n\u001b[0;32m-> 1016\u001b[0;31m             \u001b[0mresponse\u001b[0m \u001b[0;34m=\u001b[0m \u001b[0mtransport\u001b[0m\u001b[0;34m.\u001b[0m\u001b[0mhandle_request\u001b[0m\u001b[0;34m(\u001b[0m\u001b[0mrequest\u001b[0m\u001b[0;34m)\u001b[0m\u001b[0;34m\u001b[0m\u001b[0;34m\u001b[0m\u001b[0m\n\u001b[0m\u001b[1;32m   1017\u001b[0m \u001b[0;34m\u001b[0m\u001b[0m\n\u001b[1;32m   1018\u001b[0m         \u001b[0;32massert\u001b[0m \u001b[0misinstance\u001b[0m\u001b[0;34m(\u001b[0m\u001b[0mresponse\u001b[0m\u001b[0;34m.\u001b[0m\u001b[0mstream\u001b[0m\u001b[0;34m,\u001b[0m \u001b[0mSyncByteStream\u001b[0m\u001b[0;34m)\u001b[0m\u001b[0;34m\u001b[0m\u001b[0;34m\u001b[0m\u001b[0m\n",
            "\u001b[0;32m/usr/local/lib/python3.10/dist-packages/httpx/_transports/default.py\u001b[0m in \u001b[0;36mhandle_request\u001b[0;34m(self, request)\u001b[0m\n\u001b[1;32m    229\u001b[0m         )\n\u001b[1;32m    230\u001b[0m         \u001b[0;32mwith\u001b[0m \u001b[0mmap_httpcore_exceptions\u001b[0m\u001b[0;34m(\u001b[0m\u001b[0;34m)\u001b[0m\u001b[0;34m:\u001b[0m\u001b[0;34m\u001b[0m\u001b[0;34m\u001b[0m\u001b[0m\n\u001b[0;32m--> 231\u001b[0;31m             \u001b[0mresp\u001b[0m \u001b[0;34m=\u001b[0m \u001b[0mself\u001b[0m\u001b[0;34m.\u001b[0m\u001b[0m_pool\u001b[0m\u001b[0;34m.\u001b[0m\u001b[0mhandle_request\u001b[0m\u001b[0;34m(\u001b[0m\u001b[0mreq\u001b[0m\u001b[0;34m)\u001b[0m\u001b[0;34m\u001b[0m\u001b[0;34m\u001b[0m\u001b[0m\n\u001b[0m\u001b[1;32m    232\u001b[0m \u001b[0;34m\u001b[0m\u001b[0m\n\u001b[1;32m    233\u001b[0m         \u001b[0;32massert\u001b[0m \u001b[0misinstance\u001b[0m\u001b[0;34m(\u001b[0m\u001b[0mresp\u001b[0m\u001b[0;34m.\u001b[0m\u001b[0mstream\u001b[0m\u001b[0;34m,\u001b[0m \u001b[0mtyping\u001b[0m\u001b[0;34m.\u001b[0m\u001b[0mIterable\u001b[0m\u001b[0;34m)\u001b[0m\u001b[0;34m\u001b[0m\u001b[0;34m\u001b[0m\u001b[0m\n",
            "\u001b[0;32m/usr/local/lib/python3.10/dist-packages/httpcore/_sync/connection_pool.py\u001b[0m in \u001b[0;36mhandle_request\u001b[0;34m(self, request)\u001b[0m\n\u001b[1;32m    266\u001b[0m                 \u001b[0;32mwith\u001b[0m \u001b[0mShieldCancellation\u001b[0m\u001b[0;34m(\u001b[0m\u001b[0;34m)\u001b[0m\u001b[0;34m:\u001b[0m\u001b[0;34m\u001b[0m\u001b[0;34m\u001b[0m\u001b[0m\n\u001b[1;32m    267\u001b[0m                     \u001b[0mself\u001b[0m\u001b[0;34m.\u001b[0m\u001b[0mresponse_closed\u001b[0m\u001b[0;34m(\u001b[0m\u001b[0mstatus\u001b[0m\u001b[0;34m)\u001b[0m\u001b[0;34m\u001b[0m\u001b[0;34m\u001b[0m\u001b[0m\n\u001b[0;32m--> 268\u001b[0;31m                 \u001b[0;32mraise\u001b[0m \u001b[0mexc\u001b[0m\u001b[0;34m\u001b[0m\u001b[0;34m\u001b[0m\u001b[0m\n\u001b[0m\u001b[1;32m    269\u001b[0m             \u001b[0;32melse\u001b[0m\u001b[0;34m:\u001b[0m\u001b[0;34m\u001b[0m\u001b[0;34m\u001b[0m\u001b[0m\n\u001b[1;32m    270\u001b[0m                 \u001b[0;32mbreak\u001b[0m\u001b[0;34m\u001b[0m\u001b[0;34m\u001b[0m\u001b[0m\n",
            "\u001b[0;32m/usr/local/lib/python3.10/dist-packages/httpcore/_sync/connection_pool.py\u001b[0m in \u001b[0;36mhandle_request\u001b[0;34m(self, request)\u001b[0m\n\u001b[1;32m    249\u001b[0m \u001b[0;34m\u001b[0m\u001b[0m\n\u001b[1;32m    250\u001b[0m             \u001b[0;32mtry\u001b[0m\u001b[0;34m:\u001b[0m\u001b[0;34m\u001b[0m\u001b[0;34m\u001b[0m\u001b[0m\n\u001b[0;32m--> 251\u001b[0;31m                 \u001b[0mresponse\u001b[0m \u001b[0;34m=\u001b[0m \u001b[0mconnection\u001b[0m\u001b[0;34m.\u001b[0m\u001b[0mhandle_request\u001b[0m\u001b[0;34m(\u001b[0m\u001b[0mrequest\u001b[0m\u001b[0;34m)\u001b[0m\u001b[0;34m\u001b[0m\u001b[0;34m\u001b[0m\u001b[0m\n\u001b[0m\u001b[1;32m    252\u001b[0m             \u001b[0;32mexcept\u001b[0m \u001b[0mConnectionNotAvailable\u001b[0m\u001b[0;34m:\u001b[0m\u001b[0;34m\u001b[0m\u001b[0;34m\u001b[0m\u001b[0m\n\u001b[1;32m    253\u001b[0m                 \u001b[0;31m# The ConnectionNotAvailable exception is a special case, that\u001b[0m\u001b[0;34m\u001b[0m\u001b[0;34m\u001b[0m\u001b[0m\n",
            "\u001b[0;32m/usr/local/lib/python3.10/dist-packages/httpcore/_sync/connection.py\u001b[0m in \u001b[0;36mhandle_request\u001b[0;34m(self, request)\u001b[0m\n\u001b[1;32m    101\u001b[0m                 \u001b[0;32mraise\u001b[0m \u001b[0mConnectionNotAvailable\u001b[0m\u001b[0;34m(\u001b[0m\u001b[0;34m)\u001b[0m\u001b[0;34m\u001b[0m\u001b[0;34m\u001b[0m\u001b[0m\n\u001b[1;32m    102\u001b[0m \u001b[0;34m\u001b[0m\u001b[0m\n\u001b[0;32m--> 103\u001b[0;31m         \u001b[0;32mreturn\u001b[0m \u001b[0mself\u001b[0m\u001b[0;34m.\u001b[0m\u001b[0m_connection\u001b[0m\u001b[0;34m.\u001b[0m\u001b[0mhandle_request\u001b[0m\u001b[0;34m(\u001b[0m\u001b[0mrequest\u001b[0m\u001b[0;34m)\u001b[0m\u001b[0;34m\u001b[0m\u001b[0;34m\u001b[0m\u001b[0m\n\u001b[0m\u001b[1;32m    104\u001b[0m \u001b[0;34m\u001b[0m\u001b[0m\n\u001b[1;32m    105\u001b[0m     \u001b[0;32mdef\u001b[0m \u001b[0m_connect\u001b[0m\u001b[0;34m(\u001b[0m\u001b[0mself\u001b[0m\u001b[0;34m,\u001b[0m \u001b[0mrequest\u001b[0m\u001b[0;34m:\u001b[0m \u001b[0mRequest\u001b[0m\u001b[0;34m)\u001b[0m \u001b[0;34m->\u001b[0m \u001b[0mNetworkStream\u001b[0m\u001b[0;34m:\u001b[0m\u001b[0;34m\u001b[0m\u001b[0;34m\u001b[0m\u001b[0m\n",
            "\u001b[0;32m/usr/local/lib/python3.10/dist-packages/httpcore/_sync/http11.py\u001b[0m in \u001b[0;36mhandle_request\u001b[0;34m(self, request)\u001b[0m\n\u001b[1;32m    131\u001b[0m                 \u001b[0;32mwith\u001b[0m \u001b[0mTrace\u001b[0m\u001b[0;34m(\u001b[0m\u001b[0;34m\"response_closed\"\u001b[0m\u001b[0;34m,\u001b[0m \u001b[0mlogger\u001b[0m\u001b[0;34m,\u001b[0m \u001b[0mrequest\u001b[0m\u001b[0;34m)\u001b[0m \u001b[0;32mas\u001b[0m \u001b[0mtrace\u001b[0m\u001b[0;34m:\u001b[0m\u001b[0;34m\u001b[0m\u001b[0;34m\u001b[0m\u001b[0m\n\u001b[1;32m    132\u001b[0m                     \u001b[0mself\u001b[0m\u001b[0;34m.\u001b[0m\u001b[0m_response_closed\u001b[0m\u001b[0;34m(\u001b[0m\u001b[0;34m)\u001b[0m\u001b[0;34m\u001b[0m\u001b[0;34m\u001b[0m\u001b[0m\n\u001b[0;32m--> 133\u001b[0;31m             \u001b[0;32mraise\u001b[0m \u001b[0mexc\u001b[0m\u001b[0;34m\u001b[0m\u001b[0;34m\u001b[0m\u001b[0m\n\u001b[0m\u001b[1;32m    134\u001b[0m \u001b[0;34m\u001b[0m\u001b[0m\n\u001b[1;32m    135\u001b[0m     \u001b[0;31m# Sending the request...\u001b[0m\u001b[0;34m\u001b[0m\u001b[0;34m\u001b[0m\u001b[0m\n",
            "\u001b[0;32m/usr/local/lib/python3.10/dist-packages/httpcore/_sync/http11.py\u001b[0m in \u001b[0;36mhandle_request\u001b[0;34m(self, request)\u001b[0m\n\u001b[1;32m    109\u001b[0m                     \u001b[0mreason_phrase\u001b[0m\u001b[0;34m,\u001b[0m\u001b[0;34m\u001b[0m\u001b[0;34m\u001b[0m\u001b[0m\n\u001b[1;32m    110\u001b[0m                     \u001b[0mheaders\u001b[0m\u001b[0;34m,\u001b[0m\u001b[0;34m\u001b[0m\u001b[0;34m\u001b[0m\u001b[0m\n\u001b[0;32m--> 111\u001b[0;31m                 ) = self._receive_response_headers(**kwargs)\n\u001b[0m\u001b[1;32m    112\u001b[0m                 trace.return_value = (\n\u001b[1;32m    113\u001b[0m                     \u001b[0mhttp_version\u001b[0m\u001b[0;34m,\u001b[0m\u001b[0;34m\u001b[0m\u001b[0;34m\u001b[0m\u001b[0m\n",
            "\u001b[0;32m/usr/local/lib/python3.10/dist-packages/httpcore/_sync/http11.py\u001b[0m in \u001b[0;36m_receive_response_headers\u001b[0;34m(self, request)\u001b[0m\n\u001b[1;32m    174\u001b[0m \u001b[0;34m\u001b[0m\u001b[0m\n\u001b[1;32m    175\u001b[0m         \u001b[0;32mwhile\u001b[0m \u001b[0;32mTrue\u001b[0m\u001b[0;34m:\u001b[0m\u001b[0;34m\u001b[0m\u001b[0;34m\u001b[0m\u001b[0m\n\u001b[0;32m--> 176\u001b[0;31m             \u001b[0mevent\u001b[0m \u001b[0;34m=\u001b[0m \u001b[0mself\u001b[0m\u001b[0;34m.\u001b[0m\u001b[0m_receive_event\u001b[0m\u001b[0;34m(\u001b[0m\u001b[0mtimeout\u001b[0m\u001b[0;34m=\u001b[0m\u001b[0mtimeout\u001b[0m\u001b[0;34m)\u001b[0m\u001b[0;34m\u001b[0m\u001b[0;34m\u001b[0m\u001b[0m\n\u001b[0m\u001b[1;32m    177\u001b[0m             \u001b[0;32mif\u001b[0m \u001b[0misinstance\u001b[0m\u001b[0;34m(\u001b[0m\u001b[0mevent\u001b[0m\u001b[0;34m,\u001b[0m \u001b[0mh11\u001b[0m\u001b[0;34m.\u001b[0m\u001b[0mResponse\u001b[0m\u001b[0;34m)\u001b[0m\u001b[0;34m:\u001b[0m\u001b[0;34m\u001b[0m\u001b[0;34m\u001b[0m\u001b[0m\n\u001b[1;32m    178\u001b[0m                 \u001b[0;32mbreak\u001b[0m\u001b[0;34m\u001b[0m\u001b[0;34m\u001b[0m\u001b[0m\n",
            "\u001b[0;32m/usr/local/lib/python3.10/dist-packages/httpcore/_sync/http11.py\u001b[0m in \u001b[0;36m_receive_event\u001b[0;34m(self, timeout)\u001b[0m\n\u001b[1;32m    210\u001b[0m \u001b[0;34m\u001b[0m\u001b[0m\n\u001b[1;32m    211\u001b[0m             \u001b[0;32mif\u001b[0m \u001b[0mevent\u001b[0m \u001b[0;32mis\u001b[0m \u001b[0mh11\u001b[0m\u001b[0;34m.\u001b[0m\u001b[0mNEED_DATA\u001b[0m\u001b[0;34m:\u001b[0m\u001b[0;34m\u001b[0m\u001b[0;34m\u001b[0m\u001b[0m\n\u001b[0;32m--> 212\u001b[0;31m                 data = self._network_stream.read(\n\u001b[0m\u001b[1;32m    213\u001b[0m                     \u001b[0mself\u001b[0m\u001b[0;34m.\u001b[0m\u001b[0mREAD_NUM_BYTES\u001b[0m\u001b[0;34m,\u001b[0m \u001b[0mtimeout\u001b[0m\u001b[0;34m=\u001b[0m\u001b[0mtimeout\u001b[0m\u001b[0;34m\u001b[0m\u001b[0;34m\u001b[0m\u001b[0m\n\u001b[1;32m    214\u001b[0m                 )\n",
            "\u001b[0;32m/usr/local/lib/python3.10/dist-packages/httpcore/_backends/sync.py\u001b[0m in \u001b[0;36mread\u001b[0;34m(self, max_bytes, timeout)\u001b[0m\n\u001b[1;32m    124\u001b[0m         \u001b[0;32mwith\u001b[0m \u001b[0mmap_exceptions\u001b[0m\u001b[0;34m(\u001b[0m\u001b[0mexc_map\u001b[0m\u001b[0;34m)\u001b[0m\u001b[0;34m:\u001b[0m\u001b[0;34m\u001b[0m\u001b[0;34m\u001b[0m\u001b[0m\n\u001b[1;32m    125\u001b[0m             \u001b[0mself\u001b[0m\u001b[0;34m.\u001b[0m\u001b[0m_sock\u001b[0m\u001b[0;34m.\u001b[0m\u001b[0msettimeout\u001b[0m\u001b[0;34m(\u001b[0m\u001b[0mtimeout\u001b[0m\u001b[0;34m)\u001b[0m\u001b[0;34m\u001b[0m\u001b[0;34m\u001b[0m\u001b[0m\n\u001b[0;32m--> 126\u001b[0;31m             \u001b[0;32mreturn\u001b[0m \u001b[0mself\u001b[0m\u001b[0;34m.\u001b[0m\u001b[0m_sock\u001b[0m\u001b[0;34m.\u001b[0m\u001b[0mrecv\u001b[0m\u001b[0;34m(\u001b[0m\u001b[0mmax_bytes\u001b[0m\u001b[0;34m)\u001b[0m\u001b[0;34m\u001b[0m\u001b[0;34m\u001b[0m\u001b[0m\n\u001b[0m\u001b[1;32m    127\u001b[0m \u001b[0;34m\u001b[0m\u001b[0m\n\u001b[1;32m    128\u001b[0m     \u001b[0;32mdef\u001b[0m \u001b[0mwrite\u001b[0m\u001b[0;34m(\u001b[0m\u001b[0mself\u001b[0m\u001b[0;34m,\u001b[0m \u001b[0mbuffer\u001b[0m\u001b[0;34m:\u001b[0m \u001b[0mbytes\u001b[0m\u001b[0;34m,\u001b[0m \u001b[0mtimeout\u001b[0m\u001b[0;34m:\u001b[0m \u001b[0mtyping\u001b[0m\u001b[0;34m.\u001b[0m\u001b[0mOptional\u001b[0m\u001b[0;34m[\u001b[0m\u001b[0mfloat\u001b[0m\u001b[0;34m]\u001b[0m \u001b[0;34m=\u001b[0m \u001b[0;32mNone\u001b[0m\u001b[0;34m)\u001b[0m \u001b[0;34m->\u001b[0m \u001b[0;32mNone\u001b[0m\u001b[0;34m:\u001b[0m\u001b[0;34m\u001b[0m\u001b[0;34m\u001b[0m\u001b[0m\n",
            "\u001b[0;32m/usr/lib/python3.10/ssl.py\u001b[0m in \u001b[0;36mrecv\u001b[0;34m(self, buflen, flags)\u001b[0m\n\u001b[1;32m   1286\u001b[0m                     \u001b[0;34m\"non-zero flags not allowed in calls to recv() on %s\"\u001b[0m \u001b[0;34m%\u001b[0m\u001b[0;34m\u001b[0m\u001b[0;34m\u001b[0m\u001b[0m\n\u001b[1;32m   1287\u001b[0m                     self.__class__)\n\u001b[0;32m-> 1288\u001b[0;31m             \u001b[0;32mreturn\u001b[0m \u001b[0mself\u001b[0m\u001b[0;34m.\u001b[0m\u001b[0mread\u001b[0m\u001b[0;34m(\u001b[0m\u001b[0mbuflen\u001b[0m\u001b[0;34m)\u001b[0m\u001b[0;34m\u001b[0m\u001b[0;34m\u001b[0m\u001b[0m\n\u001b[0m\u001b[1;32m   1289\u001b[0m         \u001b[0;32melse\u001b[0m\u001b[0;34m:\u001b[0m\u001b[0;34m\u001b[0m\u001b[0;34m\u001b[0m\u001b[0m\n\u001b[1;32m   1290\u001b[0m             \u001b[0;32mreturn\u001b[0m \u001b[0msuper\u001b[0m\u001b[0;34m(\u001b[0m\u001b[0;34m)\u001b[0m\u001b[0;34m.\u001b[0m\u001b[0mrecv\u001b[0m\u001b[0;34m(\u001b[0m\u001b[0mbuflen\u001b[0m\u001b[0;34m,\u001b[0m \u001b[0mflags\u001b[0m\u001b[0;34m)\u001b[0m\u001b[0;34m\u001b[0m\u001b[0;34m\u001b[0m\u001b[0m\n",
            "\u001b[0;32m/usr/lib/python3.10/ssl.py\u001b[0m in \u001b[0;36mread\u001b[0;34m(self, len, buffer)\u001b[0m\n\u001b[1;32m   1159\u001b[0m                 \u001b[0;32mreturn\u001b[0m \u001b[0mself\u001b[0m\u001b[0;34m.\u001b[0m\u001b[0m_sslobj\u001b[0m\u001b[0;34m.\u001b[0m\u001b[0mread\u001b[0m\u001b[0;34m(\u001b[0m\u001b[0mlen\u001b[0m\u001b[0;34m,\u001b[0m \u001b[0mbuffer\u001b[0m\u001b[0;34m)\u001b[0m\u001b[0;34m\u001b[0m\u001b[0;34m\u001b[0m\u001b[0m\n\u001b[1;32m   1160\u001b[0m             \u001b[0;32melse\u001b[0m\u001b[0;34m:\u001b[0m\u001b[0;34m\u001b[0m\u001b[0;34m\u001b[0m\u001b[0m\n\u001b[0;32m-> 1161\u001b[0;31m                 \u001b[0;32mreturn\u001b[0m \u001b[0mself\u001b[0m\u001b[0;34m.\u001b[0m\u001b[0m_sslobj\u001b[0m\u001b[0;34m.\u001b[0m\u001b[0mread\u001b[0m\u001b[0;34m(\u001b[0m\u001b[0mlen\u001b[0m\u001b[0;34m)\u001b[0m\u001b[0;34m\u001b[0m\u001b[0;34m\u001b[0m\u001b[0m\n\u001b[0m\u001b[1;32m   1162\u001b[0m         \u001b[0;32mexcept\u001b[0m \u001b[0mSSLError\u001b[0m \u001b[0;32mas\u001b[0m \u001b[0mx\u001b[0m\u001b[0;34m:\u001b[0m\u001b[0;34m\u001b[0m\u001b[0;34m\u001b[0m\u001b[0m\n\u001b[1;32m   1163\u001b[0m             \u001b[0;32mif\u001b[0m \u001b[0mx\u001b[0m\u001b[0;34m.\u001b[0m\u001b[0margs\u001b[0m\u001b[0;34m[\u001b[0m\u001b[0;36m0\u001b[0m\u001b[0;34m]\u001b[0m \u001b[0;34m==\u001b[0m \u001b[0mSSL_ERROR_EOF\u001b[0m \u001b[0;32mand\u001b[0m \u001b[0mself\u001b[0m\u001b[0;34m.\u001b[0m\u001b[0msuppress_ragged_eofs\u001b[0m\u001b[0;34m:\u001b[0m\u001b[0;34m\u001b[0m\u001b[0;34m\u001b[0m\u001b[0m\n",
            "\u001b[0;31mKeyboardInterrupt\u001b[0m: "
          ]
        }
      ]
    }
  ]
}