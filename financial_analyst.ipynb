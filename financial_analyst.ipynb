{
  "nbformat": 4,
  "nbformat_minor": 0,
  "metadata": {
    "colab": {
      "provenance": [],
      "authorship_tag": "ABX9TyMiOqDpwKV5D0MJbNntfr0+",
      "include_colab_link": true
    },
    "kernelspec": {
      "name": "python3",
      "display_name": "Python 3"
    },
    "language_info": {
      "name": "python"
    }
  },
  "cells": [
    {
      "cell_type": "markdown",
      "metadata": {
        "id": "view-in-github",
        "colab_type": "text"
      },
      "source": [
        "<a href=\"https://colab.research.google.com/github/sohaiba/financial_analyst_assistant/blob/main/financial_analyst.ipynb\" target=\"_parent\"><img src=\"https://colab.research.google.com/assets/colab-badge.svg\" alt=\"Open In Colab\"/></a>"
      ]
    },
    {
      "cell_type": "code",
      "source": [
        "pip install --upgrade openai"
      ],
      "metadata": {
        "id": "bk6fetuQ2ORB"
      },
      "execution_count": null,
      "outputs": []
    },
    {
      "cell_type": "code",
      "source": [
        "import os\n",
        "import json\n",
        "import requests\n",
        "from openai import OpenAI\n",
        "import time\n",
        "from google.colab import userdata\n",
        "\n",
        "# API keys are stored in Google Colab's Secret Manager\n",
        "OPENAI_API_KEY = userdata.get('OPENAI_API_KEY')\n",
        "os.environ[\"OPENAI_API_KEY\"] = OPENAI_API_KEY\n",
        "\n",
        "FMP_API_KEY = userdata.get('FMP_API_KEY')\n",
        "os.environ[\"FMP_API_KEY\"] = FMP_API_KEY\n",
        "\n",
        "client = OpenAI()"
      ],
      "metadata": {
        "id": "dzTRxzzizU8n"
      },
      "execution_count": 52,
      "outputs": []
    },
    {
      "cell_type": "code",
      "source": [
        "# Define financial statement functions\n",
        "def get_income_statement(ticker, period, limit):\n",
        "    url = f\"https://financialmodelingprep.com/api/v3/income-statement/{ticker}?period={period}&apikey={FMP_API_KEY}\"\n",
        "    response = requests.get(url)\n",
        "    return json.dumps(response.json())\n",
        "\n",
        "def get_balance_sheet(ticker, period, limit):\n",
        "    url = f\"https://financialmodelingprep.com/api/v3/balance-sheet-statement/{ticker}?period={period}&apikey={FMP_API_KEY}\"\n",
        "    response = requests.get(url)\n",
        "    return json.dumps(response.json())\n",
        "\n",
        "def get_cash_flow_statement(ticker, period, limit):\n",
        "    url = f\"https://financialmodelingprep.com/api/v3/cash-flow-statement/{ticker}?period={period}&apikey={FMP_API_KEY}\"\n",
        "    response = requests.get(url)\n",
        "    return json.dumps(response.json())\n",
        "\n",
        "def get_key_metrics(ticker, period, limit):\n",
        "    url = f\"https://financialmodelingprep.com/api/v3/key-metrics/{ticker}?period={period}&apikey={FMP_API_KEY}\"\n",
        "    response = requests.get(url)\n",
        "    return json.dumps(response.json())\n",
        "\n",
        "def get_financial_ratios(ticker, period, limit):\n",
        "    url = f\"https://financialmodelingprep.com/api/v3/ratios/{ticker}?period={period}&apikey={FMP_API_KEY}\"\n",
        "    response = requests.get(url)\n",
        "    return json.dumps(response.json())\n",
        "\n",
        "def get_financial_growth(ticker, period, limit):\n",
        "    url = f\"https://financialmodelingprep.com/api/v3/financial-growth/{ticker}?period={period}&apikey={FMP_API_KEY}\"\n",
        "    response = requests.get(url)\n",
        "    return json.dumps(response.json())"
      ],
      "metadata": {
        "id": "qgn7wR-H6E2V"
      },
      "execution_count": 53,
      "outputs": []
    },
    {
      "cell_type": "code",
      "source": [
        "# Map available functions\n",
        "available_functions = {\n",
        "    \"get_income_statement\": get_income_statement,\n",
        "    \"get_balance_sheet\": get_balance_sheet,\n",
        "    \"get_cash_flow_statement\": get_cash_flow_statement,\n",
        "    \"get_key_metrics\": get_key_metrics,\n",
        "    \"get_financial_ratios\": get_financial_ratios,\n",
        "    \"get_financial_growth\": get_financial_growth\n",
        "}"
      ],
      "metadata": {
        "id": "nWYaozhp6aMm"
      },
      "execution_count": 54,
      "outputs": []
    },
    {
      "cell_type": "code",
      "source": [
        "# Define the main function\n",
        "def run_assistant():\n",
        "  # Creating an assistant with specific instructions and tools\n",
        "  assistant = client.beta.assistants.create(\n",
        "      instructions=\"Act as a financial analyst by accessing detailed financial data through the Financial Modeling Prep API. Your capabilities include analyzing key metrics, comprehensive financial statements, vital financial ratios, and tracking financial growth trends. \",\n",
        "      model=\"gpt-3.5-turbo-1106\",\n",
        "      tools=[\n",
        "              {\"type\": \"function\",\n",
        "              \"function\": {\n",
        "                  \"name\": \"get_income_statement\",\n",
        "                  \"parameters\": {\"type\": \"object\",\n",
        "                                  \"properties\": {\n",
        "                                      \"ticker\": {\"type\": \"string\"},\n",
        "                                      \"period\": {\"type\": \"string\"},\n",
        "                                      \"limit\": {\"type\": \"integer\"}\n",
        "                                    }\n",
        "                                  }\n",
        "                  }\n",
        "              },\n",
        "              {\"type\": \"function\",\n",
        "              \"function\": {\n",
        "                  \"name\": \"get_balance_sheet\",\n",
        "                  \"parameters\": {\"type\": \"object\",\n",
        "                                  \"properties\": {\n",
        "                                      \"ticker\": {\"type\": \"string\"},\n",
        "                                      \"period\": {\"type\": \"string\"},\n",
        "                                      \"limit\": {\"type\": \"integer\"}\n",
        "                                    }\n",
        "                                  }\n",
        "                  }\n",
        "              },\n",
        "              {\"type\": \"function\",\n",
        "              \"function\": {\n",
        "                  \"name\": \"get_cash_flow_statement\",\n",
        "                  \"parameters\": {\"type\": \"object\",\n",
        "                                  \"properties\": {\n",
        "                                      \"ticker\": {\"type\": \"string\"},\n",
        "                                      \"period\": {\"type\": \"string\"},\n",
        "                                      \"limit\": {\"type\": \"integer\"}\n",
        "                                    }\n",
        "                                  }\n",
        "                  }\n",
        "              },\n",
        "              {\"type\": \"function\",\n",
        "              \"function\": {\n",
        "                  \"name\": \"get_key_metrics\",\n",
        "                  \"parameters\": {\"type\": \"object\",\n",
        "                                  \"properties\": {\n",
        "                                      \"ticker\": {\"type\": \"string\"},\n",
        "                                      \"period\": {\"type\": \"string\"},\n",
        "                                      \"limit\": {\"type\": \"integer\"}\n",
        "                                    }\n",
        "                                  }\n",
        "                  }\n",
        "              },\n",
        "              {\"type\": \"function\",\n",
        "              \"function\": {\n",
        "                  \"name\": \"get_financial_ratios\",\n",
        "                  \"parameters\": {\"type\": \"object\",\n",
        "                                  \"properties\": {\n",
        "                                      \"ticker\": {\"type\": \"string\"},\n",
        "                                      \"period\": {\"type\": \"string\"},\n",
        "                                      \"limit\": {\"type\": \"integer\"}\n",
        "                                    }\n",
        "                                  }\n",
        "                  }\n",
        "              },\n",
        "              {\"type\": \"function\",\n",
        "              \"function\": {\n",
        "                  \"name\": \"get_financial_growth\",\n",
        "                  \"parameters\": {\"type\": \"object\",\n",
        "                                  \"properties\": {\n",
        "                                      \"ticker\": {\"type\": \"string\"},\n",
        "                                      \"period\": {\"type\": \"string\"},\n",
        "                                      \"limit\": {\"type\": \"integer\"}\n",
        "                                    }\n",
        "                                  }\n",
        "                  }\n",
        "              }\n",
        "              ]\n",
        "  )\n",
        "  return assistant.id"
      ],
      "metadata": {
        "id": "yf7WxKOlTxrJ"
      },
      "execution_count": 55,
      "outputs": []
    },
    {
      "cell_type": "code",
      "source": [
        "assistant_id = run_assistant()"
      ],
      "metadata": {
        "id": "lCzmBRoX6z8a"
      },
      "execution_count": 56,
      "outputs": []
    },
    {
      "cell_type": "code",
      "source": [
        "  # Creating a new thread\n",
        "thread = client.beta.threads.create()"
      ],
      "metadata": {
        "id": "dExoi5HM-Nnd"
      },
      "execution_count": 57,
      "outputs": []
    },
    {
      "cell_type": "code",
      "source": [
        "# Adding a user message to the thread\n",
        "user_messsage = \"Give me income statement for the past five quarters for Amazon.\"\n",
        "client.beta.threads.messages.create(\n",
        "      thread_id=thread.id,\n",
        "      role=\"user\",\n",
        "      content=user_messsage\n",
        " )"
      ],
      "metadata": {
        "colab": {
          "base_uri": "https://localhost:8080/"
        },
        "id": "7Cth29Ts-Pkv",
        "outputId": "831ffcd5-cdf0-4981-a298-87854dcb1d67"
      },
      "execution_count": 58,
      "outputs": [
        {
          "output_type": "execute_result",
          "data": {
            "text/plain": [
              "ThreadMessage(id='msg_f6TLHlxQ2RTgmvh5doaSARoZ', assistant_id=None, content=[MessageContentText(text=Text(annotations=[], value='Give me income statement for the past five quarters for Amazon.'), type='text')], created_at=1704709022, file_ids=[], metadata={}, object='thread.message', role='user', run_id=None, thread_id='thread_9OLwSUiqB5bHdkLUHqy61yBs')"
            ]
          },
          "metadata": {},
          "execution_count": 58
        }
      ]
    },
    {
      "cell_type": "code",
      "source": [
        "# Running the assistant on the created thread\n",
        "run = client.beta.threads.runs.create(thread_id=thread.id, assistant_id=assistant_id)"
      ],
      "metadata": {
        "id": "BaGo0EgzA8AH"
      },
      "execution_count": 59,
      "outputs": []
    },
    {
      "cell_type": "code",
      "source": [
        "dict(run)"
      ],
      "metadata": {
        "colab": {
          "base_uri": "https://localhost:8080/"
        },
        "id": "BMk8_PUgFeuY",
        "outputId": "0a5d2658-ecb4-4ac5-fa26-65633bae3d48"
      },
      "execution_count": 60,
      "outputs": [
        {
          "output_type": "execute_result",
          "data": {
            "text/plain": [
              "{'id': 'run_jdVPIrVGHooSujHix12CHcFO',\n",
              " 'assistant_id': 'asst_HesTRNvaDtSQKAPi9qcHNIZt',\n",
              " 'cancelled_at': None,\n",
              " 'completed_at': None,\n",
              " 'created_at': 1704709028,\n",
              " 'expires_at': 1704709628,\n",
              " 'failed_at': None,\n",
              " 'file_ids': [],\n",
              " 'instructions': 'Act as a financial analyst by accessing detailed financial data through the Financial Modeling Prep API. Your capabilities include analyzing key metrics, comprehensive financial statements, vital financial ratios, and tracking financial growth trends. ',\n",
              " 'last_error': None,\n",
              " 'metadata': {},\n",
              " 'model': 'gpt-3.5-turbo-1106',\n",
              " 'object': 'thread.run',\n",
              " 'required_action': None,\n",
              " 'started_at': None,\n",
              " 'status': 'queued',\n",
              " 'thread_id': 'thread_9OLwSUiqB5bHdkLUHqy61yBs',\n",
              " 'tools': [ToolAssistantToolsFunction(function=FunctionDefinition(name='get_income_statement', description=None, parameters={'type': 'object', 'properties': {'ticker': {'type': 'string'}, 'period': {'type': 'string'}, 'limit': {'type': 'integer'}}}), type='function'),\n",
              "  ToolAssistantToolsFunction(function=FunctionDefinition(name='get_balance_sheet', description=None, parameters={'type': 'object', 'properties': {'ticker': {'type': 'string'}, 'period': {'type': 'string'}, 'limit': {'type': 'integer'}}}), type='function'),\n",
              "  ToolAssistantToolsFunction(function=FunctionDefinition(name='get_cash_flow_statement', description=None, parameters={'type': 'object', 'properties': {'ticker': {'type': 'string'}, 'period': {'type': 'string'}, 'limit': {'type': 'integer'}}}), type='function'),\n",
              "  ToolAssistantToolsFunction(function=FunctionDefinition(name='get_key_metrics', description=None, parameters={'type': 'object', 'properties': {'ticker': {'type': 'string'}, 'period': {'type': 'string'}, 'limit': {'type': 'integer'}}}), type='function'),\n",
              "  ToolAssistantToolsFunction(function=FunctionDefinition(name='get_financial_ratios', description=None, parameters={'type': 'object', 'properties': {'ticker': {'type': 'string'}, 'period': {'type': 'string'}, 'limit': {'type': 'integer'}}}), type='function'),\n",
              "  ToolAssistantToolsFunction(function=FunctionDefinition(name='get_financial_growth', description=None, parameters={'type': 'object', 'properties': {'ticker': {'type': 'string'}, 'period': {'type': 'string'}, 'limit': {'type': 'integer'}}}), type='function')]}"
            ]
          },
          "metadata": {},
          "execution_count": 60
        }
      ]
    },
    {
      "cell_type": "code",
      "source": [
        "# Loop until the run completes or requires action\n",
        "while True:\n",
        "  run = client.beta.threads.runs.retrieve(thread_id=thread.id, run_id=run.id)\n",
        "\n",
        "  # Add run steps retrieval here\n",
        "  run_steps = client.beta.threads.runs.steps.list(thread_id=thread.id, run_id=run.id)\n",
        "  print(\"Run Steps:\", run_steps)\n",
        "\n",
        "  if run.status == \"requires_action\":\n",
        "      tool_calls = run.required_action.submit_tool_outputs.tool_calls\n",
        "      tool_outputs = []\n",
        "\n",
        "      for tool_call in tool_calls:\n",
        "          function_name = tool_call.function.name\n",
        "          function_args = json.loads(tool_call.function.arguments)\n",
        "\n",
        "          if function_name in available_functions:\n",
        "              function_to_call = available_functions[function_name]\n",
        "              output = function_to_call(**function_args)\n",
        "              tool_outputs.append({\n",
        "                  \"tool_call_id\": tool_call.id,\n",
        "                  \"output\": output,\n",
        "              })\n",
        "\n",
        "      # Submit tool outputs and update the run\n",
        "      client.beta.threads.runs.submit_tool_outputs(\n",
        "          thread_id=thread.id,\n",
        "          run_id=run.id,\n",
        "          tool_outputs=tool_outputs\n",
        "      )\n",
        "\n",
        "  elif run.status == \"completed\":\n",
        "      # List the messages to get the response\n",
        "      messages = client.beta.threads.messages.list(thread_id=thread.id)\n",
        "      for message in messages.data:\n",
        "          role_label = \"User\" if message.role == \"user\" else \"Assistant\"\n",
        "          message_content = message.content[0].text.value\n",
        "          print(f\"{role_label}: {message_content}\\n\")\n",
        "      break  # Exit the loop after processing the completed run\n",
        "\n",
        "  elif run.status == \"failed\":\n",
        "      print(\"Run failed.\")\n",
        "      break\n",
        "\n",
        "  elif run.status in [\"in_progress\", \"queued\"]:\n",
        "      print(f\"Run is {run.status}. Waiting...\")\n",
        "      time.sleep(5)  # Wait for 5 seconds before checking again\n",
        "\n",
        "  else:\n",
        "      print(f\"Unexpected status: {run.status}\")\n",
        "      break"
      ],
      "metadata": {
        "colab": {
          "base_uri": "https://localhost:8080/"
        },
        "id": "tC8IqtRjRgFP",
        "outputId": "a7bada9a-0da7-4767-a427-eb6af786953c"
      },
      "execution_count": 61,
      "outputs": [
        {
          "output_type": "stream",
          "name": "stdout",
          "text": [
            "Run Steps: SyncCursorPage[RunStep](data=[RunStep(id='step_zDURys15QWh589oh7JksRfkX', assistant_id='asst_HesTRNvaDtSQKAPi9qcHNIZt', cancelled_at=None, completed_at=None, created_at=1704709031, expired_at=None, failed_at=None, last_error=None, metadata=None, object='thread.run.step', run_id='run_jdVPIrVGHooSujHix12CHcFO', status='in_progress', step_details=ToolCallsStepDetails(tool_calls=[FunctionToolCall(id='call_8Jjx4BqaDOEwY9cdRD0qo17v', function=Function(arguments='{\"ticker\":\"AMZN\",\"period\":\"quarter\",\"limit\":5}', name='get_income_statement', output=None), type='function')], type='tool_calls'), thread_id='thread_9OLwSUiqB5bHdkLUHqy61yBs', type='tool_calls', expires_at=1704709628)], object='list', first_id='step_zDURys15QWh589oh7JksRfkX', last_id='step_zDURys15QWh589oh7JksRfkX', has_more=False)\n",
            "Run Steps: SyncCursorPage[RunStep](data=[RunStep(id='step_zDURys15QWh589oh7JksRfkX', assistant_id='asst_HesTRNvaDtSQKAPi9qcHNIZt', cancelled_at=None, completed_at=1704709037, created_at=1704709031, expired_at=None, failed_at=None, last_error=None, metadata=None, object='thread.run.step', run_id='run_jdVPIrVGHooSujHix12CHcFO', status='completed', step_details=ToolCallsStepDetails(tool_calls=[FunctionToolCall(id='call_8Jjx4BqaDOEwY9cdRD0qo17v', function=Function(arguments='{\"ticker\":\"AMZN\",\"period\":\"quarter\",\"limit\":5}', name='get_income_statement', output='{\"Error Message\": \"Special Endpoint : This endpoint is not available under your current subscription please visit our subscription page to upgrade your plan at https://site.financialmodelingprep.com/developer/docs/pricing\"}'), type='function')], type='tool_calls'), thread_id='thread_9OLwSUiqB5bHdkLUHqy61yBs', type='tool_calls', expires_at=1704709628)], object='list', first_id='step_zDURys15QWh589oh7JksRfkX', last_id='step_zDURys15QWh589oh7JksRfkX', has_more=False)\n",
            "Run is queued. Waiting...\n",
            "Run Steps: SyncCursorPage[RunStep](data=[RunStep(id='step_7nHdtx52nRdsW6ckOt4bCpQ1', assistant_id='asst_HesTRNvaDtSQKAPi9qcHNIZt', cancelled_at=None, completed_at=1704709042, created_at=1704709040, expired_at=None, failed_at=None, last_error=None, metadata=None, object='thread.run.step', run_id='run_jdVPIrVGHooSujHix12CHcFO', status='completed', step_details=MessageCreationStepDetails(message_creation=MessageCreation(message_id='msg_Xemed5necnaHiyc62JwkeIv1'), type='message_creation'), thread_id='thread_9OLwSUiqB5bHdkLUHqy61yBs', type='message_creation', expires_at=None), RunStep(id='step_zDURys15QWh589oh7JksRfkX', assistant_id='asst_HesTRNvaDtSQKAPi9qcHNIZt', cancelled_at=None, completed_at=1704709037, created_at=1704709031, expired_at=None, failed_at=None, last_error=None, metadata=None, object='thread.run.step', run_id='run_jdVPIrVGHooSujHix12CHcFO', status='completed', step_details=ToolCallsStepDetails(tool_calls=[FunctionToolCall(id='call_8Jjx4BqaDOEwY9cdRD0qo17v', function=Function(arguments='{\"ticker\":\"AMZN\",\"period\":\"quarter\",\"limit\":5}', name='get_income_statement', output='{\"Error Message\": \"Special Endpoint : This endpoint is not available under your current subscription please visit our subscription page to upgrade your plan at https://site.financialmodelingprep.com/developer/docs/pricing\"}'), type='function')], type='tool_calls'), thread_id='thread_9OLwSUiqB5bHdkLUHqy61yBs', type='tool_calls', expires_at=None)], object='list', first_id='step_7nHdtx52nRdsW6ckOt4bCpQ1', last_id='step_zDURys15QWh589oh7JksRfkX', has_more=False)\n",
            "Assistant: It looks like the income statement data for the past five quarters for Amazon is not available under the current subscription. You may consider visiting the Financial Modeling Prep website to upgrade your plan to access the required data.\n",
            "\n",
            "User: Give me income statement for the past five quarters for Amazon.\n",
            "\n"
          ]
        }
      ]
    }
  ]
}