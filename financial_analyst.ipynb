{
  "nbformat": 4,
  "nbformat_minor": 0,
  "metadata": {
    "colab": {
      "provenance": [],
      "authorship_tag": "ABX9TyMiOqDpwKV5D0MJbNntfr0+",
      "include_colab_link": true
    },
    "kernelspec": {
      "name": "python3",
      "display_name": "Python 3"
    },
    "language_info": {
      "name": "python"
    }
  },
  "cells": [
    {
      "cell_type": "markdown",
      "metadata": {
        "id": "view-in-github",
        "colab_type": "text"
      },
      "source": [
        "<a href=\"https://colab.research.google.com/github/sohaiba/financial_analyst_assistant/blob/main/financial_analyst.ipynb\" target=\"_parent\"><img src=\"https://colab.research.google.com/assets/colab-badge.svg\" alt=\"Open In Colab\"/></a>"
      ]
    },
    {
      "cell_type": "code",
      "source": [
        "pip install --upgrade openai"
      ],
      "metadata": {
        "id": "bk6fetuQ2ORB"
      },
      "execution_count": null,
      "outputs": []
    },
    {
      "cell_type": "code",
      "source": [
        "import os\n",
        "import json\n",
        "import requests\n",
        "from openai import OpenAI\n",
        "import time\n",
        "from google.colab import userdata\n",
        "\n",
        "# API keys are stored in Google Colab's Secret Manager\n",
        "OPENAI_API_KEY = userdata.get('OPENAI_API_KEY')\n",
        "os.environ[\"OPENAI_API_KEY\"] = OPENAI_API_KEY\n",
        "\n",
        "FMP_API_KEY = userdata.get('FMP_API_KEY')\n",
        "os.environ[\"FMP_API_KEY\"] = FMP_API_KEY\n",
        "\n",
        "client = OpenAI()"
      ],
      "metadata": {
        "id": "dzTRxzzizU8n"
      },
      "execution_count": null,
      "outputs": []
    },
    {
      "cell_type": "code",
      "source": [
        "# Define financial statement functions\n",
        "def get_income_statement(ticker, period, limit):\n",
        "    url = f\"https://financialmodelingprep.com/api/v3/income-statement/{ticker}?period={period}&apikey={FMP_API_KEY}\"\n",
        "    response = requests.get(url)\n",
        "    return json.dumps(response.json())\n",
        "\n",
        "def get_balance_sheet(ticker, period, limit):\n",
        "    url = f\"https://financialmodelingprep.com/api/v3/balance-sheet-statement/{ticker}?period={period}&apikey={FMP_API_KEY}\"\n",
        "    response = requests.get(url)\n",
        "    return json.dumps(response.json())\n",
        "\n",
        "def get_cash_flow_statement(ticker, period, limit):\n",
        "    url = f\"https://financialmodelingprep.com/api/v3/cash-flow-statement/{ticker}?period={period}&apikey={FMP_API_KEY}\"\n",
        "    response = requests.get(url)\n",
        "    return json.dumps(response.json())\n",
        "\n",
        "def get_key_metrics(ticker, period, limit):\n",
        "    url = f\"https://financialmodelingprep.com/api/v3/key-metrics/{ticker}?period={period}&apikey={FMP_API_KEY}\"\n",
        "    response = requests.get(url)\n",
        "    return json.dumps(response.json())\n",
        "\n",
        "def get_financial_ratios(ticker, period, limit):\n",
        "    url = f\"https://financialmodelingprep.com/api/v3/ratios/{ticker}?period={period}&apikey={FMP_API_KEY}\"\n",
        "    response = requests.get(url)\n",
        "    return json.dumps(response.json())\n",
        "\n",
        "def get_financial_growth(ticker, period, limit):\n",
        "    url = f\"https://financialmodelingprep.com/api/v3/financial-growth/{ticker}?period={period}&apikey={FMP_API_KEY}\"\n",
        "    response = requests.get(url)\n",
        "    return json.dumps(response.json())"
      ],
      "metadata": {
        "id": "qgn7wR-H6E2V"
      },
      "execution_count": null,
      "outputs": []
    },
    {
      "cell_type": "code",
      "source": [
        "# Map available functions\n",
        "available_functions = {\n",
        "    \"get_income_statement\": get_income_statement,\n",
        "    \"get_balance_sheet\": get_balance_sheet,\n",
        "    \"get_cash_flow_statement\": get_cash_flow_statement,\n",
        "    \"get_key_metrics\": get_key_metrics,\n",
        "    \"get_financial_ratios\": get_financial_ratios,\n",
        "    \"get_financial_growth\": get_financial_growth\n",
        "}"
      ],
      "metadata": {
        "id": "nWYaozhp6aMm"
      },
      "execution_count": null,
      "outputs": []
    },
    {
      "cell_type": "code",
      "source": [
        "# Define the main function\n",
        "def run_assistant():\n",
        "  # Creating an assistant with specific instructions and tools\n",
        "  assistant = client.beta.assistants.create(\n",
        "      instructions=\"Act as a financial analyst by accessing detailed financial data through the Financial Modeling Prep API. Your capabilities include analyzing key metrics, comprehensive financial statements, vital financial ratios, and tracking financial growth trends. \",\n",
        "      model=\"gpt-3.5-turbo-1106\",\n",
        "      tools=[\n",
        "              {\"type\": \"function\",\n",
        "              \"function\": {\n",
        "                  \"name\": \"get_income_statement\",\n",
        "                  \"parameters\": {\"type\": \"object\",\n",
        "                                  \"properties\": {\n",
        "                                      \"ticker\": {\"type\": \"string\"},\n",
        "                                      \"period\": {\"type\": \"string\"},\n",
        "                                      \"limit\": {\"type\": \"integer\"}\n",
        "                                    }\n",
        "                                  }\n",
        "                  }\n",
        "              },\n",
        "              {\"type\": \"function\",\n",
        "              \"function\": {\n",
        "                  \"name\": \"get_balance_sheet\",\n",
        "                  \"parameters\": {\"type\": \"object\",\n",
        "                                  \"properties\": {\n",
        "                                      \"ticker\": {\"type\": \"string\"},\n",
        "                                      \"period\": {\"type\": \"string\"},\n",
        "                                      \"limit\": {\"type\": \"integer\"}\n",
        "                                    }\n",
        "                                  }\n",
        "                  }\n",
        "              },\n",
        "              {\"type\": \"function\",\n",
        "              \"function\": {\n",
        "                  \"name\": \"get_cash_flow_statement\",\n",
        "                  \"parameters\": {\"type\": \"object\",\n",
        "                                  \"properties\": {\n",
        "                                      \"ticker\": {\"type\": \"string\"},\n",
        "                                      \"period\": {\"type\": \"string\"},\n",
        "                                      \"limit\": {\"type\": \"integer\"}\n",
        "                                    }\n",
        "                                  }\n",
        "                  }\n",
        "              },\n",
        "              {\"type\": \"function\",\n",
        "              \"function\": {\n",
        "                  \"name\": \"get_key_metrics\",\n",
        "                  \"parameters\": {\"type\": \"object\",\n",
        "                                  \"properties\": {\n",
        "                                      \"ticker\": {\"type\": \"string\"},\n",
        "                                      \"period\": {\"type\": \"string\"},\n",
        "                                      \"limit\": {\"type\": \"integer\"}\n",
        "                                    }\n",
        "                                  }\n",
        "                  }\n",
        "              },\n",
        "              {\"type\": \"function\",\n",
        "              \"function\": {\n",
        "                  \"name\": \"get_financial_ratios\",\n",
        "                  \"parameters\": {\"type\": \"object\",\n",
        "                                  \"properties\": {\n",
        "                                      \"ticker\": {\"type\": \"string\"},\n",
        "                                      \"period\": {\"type\": \"string\"},\n",
        "                                      \"limit\": {\"type\": \"integer\"}\n",
        "                                    }\n",
        "                                  }\n",
        "                  }\n",
        "              },\n",
        "              {\"type\": \"function\",\n",
        "              \"function\": {\n",
        "                  \"name\": \"get_financial_growth\",\n",
        "                  \"parameters\": {\"type\": \"object\",\n",
        "                                  \"properties\": {\n",
        "                                      \"ticker\": {\"type\": \"string\"},\n",
        "                                      \"period\": {\"type\": \"string\"},\n",
        "                                      \"limit\": {\"type\": \"integer\"}\n",
        "                                    }\n",
        "                                  }\n",
        "                  }\n",
        "              }\n",
        "              ]\n",
        "  )\n",
        "  return assistant.id"
      ],
      "metadata": {
        "id": "yf7WxKOlTxrJ"
      },
      "execution_count": null,
      "outputs": []
    },
    {
      "cell_type": "code",
      "source": [
        "assistant_id = run_assistant()"
      ],
      "metadata": {
        "id": "lCzmBRoX6z8a"
      },
      "execution_count": null,
      "outputs": []
    },
    {
      "cell_type": "code",
      "source": [
        "  # Creating a new thread\n",
        "thread = client.beta.threads.create()"
      ],
      "metadata": {
        "id": "dExoi5HM-Nnd"
      },
      "execution_count": null,
      "outputs": []
    },
    {
      "cell_type": "code",
      "source": [
        "# Adding a user message to the thread\n",
        "user_messsage = \"Give me income statement for the past five quarters for Amazon.\"\n",
        "client.beta.threads.messages.create(\n",
        "      thread_id=thread.id,\n",
        "      role=\"user\",\n",
        "      content=user_messsage\n",
        " )"
      ],
      "metadata": {
        "id": "7Cth29Ts-Pkv"
      },
      "execution_count": null,
      "outputs": []
    },
    {
      "cell_type": "code",
      "source": [
        "# Running the assistant on the created thread\n",
        "run = client.beta.threads.runs.create(thread_id=thread.id, assistant_id=assistant_id)"
      ],
      "metadata": {
        "id": "BaGo0EgzA8AH"
      },
      "execution_count": null,
      "outputs": []
    },
    {
      "cell_type": "code",
      "source": [
        "dict(run)"
      ],
      "metadata": {
        "id": "BMk8_PUgFeuY"
      },
      "execution_count": null,
      "outputs": []
    },
    {
      "cell_type": "code",
      "source": [
        "# Loop until the run completes or requires action\n",
        "while True:\n",
        "  run = client.beta.threads.runs.retrieve(thread_id=thread.id, run_id=run.id)\n",
        "\n",
        "  # Add run steps retrieval here\n",
        "  run_steps = client.beta.threads.runs.steps.list(thread_id=thread.id, run_id=run.id)\n",
        "  print(\"Run Steps:\", run_steps)\n",
        "\n",
        "  if run.status == \"requires_action\":\n",
        "      tool_calls = run.required_action.submit_tool_outputs.tool_calls\n",
        "      tool_outputs = []\n",
        "\n",
        "      for tool_call in tool_calls:\n",
        "          function_name = tool_call.function.name\n",
        "          function_args = json.loads(tool_call.function.arguments)\n",
        "\n",
        "          if function_name in available_functions:\n",
        "              function_to_call = available_functions[function_name]\n",
        "              output = function_to_call(**function_args)\n",
        "              tool_outputs.append({\n",
        "                  \"tool_call_id\": tool_call.id,\n",
        "                  \"output\": output,\n",
        "              })\n",
        "\n",
        "      # Submit tool outputs and update the run\n",
        "      client.beta.threads.runs.submit_tool_outputs(\n",
        "          thread_id=thread.id,\n",
        "          run_id=run.id,\n",
        "          tool_outputs=tool_outputs\n",
        "      )\n",
        "\n",
        "  elif run.status == \"completed\":\n",
        "      # List the messages to get the response\n",
        "      messages = client.beta.threads.messages.list(thread_id=thread.id)\n",
        "      for message in messages.data:\n",
        "          role_label = \"User\" if message.role == \"user\" else \"Assistant\"\n",
        "          message_content = message.content[0].text.value\n",
        "          print(f\"{role_label}: {message_content}\\n\")\n",
        "      break  # Exit the loop after processing the completed run\n",
        "\n",
        "  elif run.status == \"failed\":\n",
        "      print(\"Run failed.\")\n",
        "      break\n",
        "\n",
        "  elif run.status in [\"in_progress\", \"queued\"]:\n",
        "      print(f\"Run is {run.status}. Waiting...\")\n",
        "      time.sleep(5)  # Wait for 5 seconds before checking again\n",
        "\n",
        "  else:\n",
        "      print(f\"Unexpected status: {run.status}\")\n",
        "      break"
      ],
      "metadata": {
        "colab": {
          "base_uri": "https://localhost:8080/",
          "height": 141
        },
        "id": "tC8IqtRjRgFP",
        "outputId": "1ac89d1c-907f-4d6b-8bc8-0880562b98d7"
      },
      "execution_count": 51,
      "outputs": [
        {
          "output_type": "error",
          "ename": "IndentationError",
          "evalue": "unexpected indent (<ipython-input-51-4be6e16ab158>, line 2)",
          "traceback": [
            "\u001b[0;36m  File \u001b[0;32m\"<ipython-input-51-4be6e16ab158>\"\u001b[0;36m, line \u001b[0;32m2\u001b[0m\n\u001b[0;31m    while True:\u001b[0m\n\u001b[0m    ^\u001b[0m\n\u001b[0;31mIndentationError\u001b[0m\u001b[0;31m:\u001b[0m unexpected indent\n"
          ]
        }
      ]
    }
  ]
}